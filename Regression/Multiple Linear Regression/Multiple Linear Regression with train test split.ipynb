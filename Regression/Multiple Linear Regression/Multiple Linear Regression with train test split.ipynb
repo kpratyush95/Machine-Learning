{
 "cells": [
  {
   "cell_type": "markdown",
   "metadata": {},
   "source": [
    "# Multiple Linear Regression"
   ]
  },
  {
   "cell_type": "markdown",
   "metadata": {},
   "source": [
    "## Importing Libraries"
   ]
  },
  {
   "cell_type": "code",
   "execution_count": 1,
   "metadata": {},
   "outputs": [],
   "source": [
    "import numpy as np\n",
    "import pandas as pd\n",
    "from numpy.linalg import inv\n",
    "import matplotlib.pyplot as plt"
   ]
  },
  {
   "cell_type": "markdown",
   "metadata": {},
   "source": [
    "## Importing the DataSet\n"
   ]
  },
  {
   "cell_type": "code",
   "execution_count": 2,
   "metadata": {},
   "outputs": [
    {
     "data": {
      "text/html": [
       "<div>\n",
       "<style scoped>\n",
       "    .dataframe tbody tr th:only-of-type {\n",
       "        vertical-align: middle;\n",
       "    }\n",
       "\n",
       "    .dataframe tbody tr th {\n",
       "        vertical-align: top;\n",
       "    }\n",
       "\n",
       "    .dataframe thead th {\n",
       "        text-align: right;\n",
       "    }\n",
       "</style>\n",
       "<table border=\"1\" class=\"dataframe\">\n",
       "  <thead>\n",
       "    <tr style=\"text-align: right;\">\n",
       "      <th></th>\n",
       "      <th>fixed acidity</th>\n",
       "      <th>volatile acidity</th>\n",
       "      <th>citric acid</th>\n",
       "      <th>residual sugar</th>\n",
       "      <th>chlorides</th>\n",
       "      <th>free sulfur dioxide</th>\n",
       "      <th>total sulfur dioxide</th>\n",
       "      <th>density</th>\n",
       "      <th>pH</th>\n",
       "      <th>sulphates</th>\n",
       "      <th>alcohol</th>\n",
       "      <th>quality</th>\n",
       "    </tr>\n",
       "  </thead>\n",
       "  <tbody>\n",
       "    <tr>\n",
       "      <th>0</th>\n",
       "      <td>7.4</td>\n",
       "      <td>0.70</td>\n",
       "      <td>0.00</td>\n",
       "      <td>1.9</td>\n",
       "      <td>0.076</td>\n",
       "      <td>11.0</td>\n",
       "      <td>34.0</td>\n",
       "      <td>0.9978</td>\n",
       "      <td>3.51</td>\n",
       "      <td>0.56</td>\n",
       "      <td>9.4</td>\n",
       "      <td>5</td>\n",
       "    </tr>\n",
       "    <tr>\n",
       "      <th>1</th>\n",
       "      <td>7.8</td>\n",
       "      <td>0.88</td>\n",
       "      <td>0.00</td>\n",
       "      <td>2.6</td>\n",
       "      <td>0.098</td>\n",
       "      <td>25.0</td>\n",
       "      <td>67.0</td>\n",
       "      <td>0.9968</td>\n",
       "      <td>3.20</td>\n",
       "      <td>0.68</td>\n",
       "      <td>9.8</td>\n",
       "      <td>5</td>\n",
       "    </tr>\n",
       "    <tr>\n",
       "      <th>2</th>\n",
       "      <td>7.8</td>\n",
       "      <td>0.76</td>\n",
       "      <td>0.04</td>\n",
       "      <td>2.3</td>\n",
       "      <td>0.092</td>\n",
       "      <td>15.0</td>\n",
       "      <td>54.0</td>\n",
       "      <td>0.9970</td>\n",
       "      <td>3.26</td>\n",
       "      <td>0.65</td>\n",
       "      <td>9.8</td>\n",
       "      <td>5</td>\n",
       "    </tr>\n",
       "    <tr>\n",
       "      <th>3</th>\n",
       "      <td>11.2</td>\n",
       "      <td>0.28</td>\n",
       "      <td>0.56</td>\n",
       "      <td>1.9</td>\n",
       "      <td>0.075</td>\n",
       "      <td>17.0</td>\n",
       "      <td>60.0</td>\n",
       "      <td>0.9980</td>\n",
       "      <td>3.16</td>\n",
       "      <td>0.58</td>\n",
       "      <td>9.8</td>\n",
       "      <td>6</td>\n",
       "    </tr>\n",
       "    <tr>\n",
       "      <th>4</th>\n",
       "      <td>7.4</td>\n",
       "      <td>0.70</td>\n",
       "      <td>0.00</td>\n",
       "      <td>1.9</td>\n",
       "      <td>0.076</td>\n",
       "      <td>11.0</td>\n",
       "      <td>34.0</td>\n",
       "      <td>0.9978</td>\n",
       "      <td>3.51</td>\n",
       "      <td>0.56</td>\n",
       "      <td>9.4</td>\n",
       "      <td>5</td>\n",
       "    </tr>\n",
       "  </tbody>\n",
       "</table>\n",
       "</div>"
      ],
      "text/plain": [
       "   fixed acidity  volatile acidity  citric acid  residual sugar  chlorides  \\\n",
       "0            7.4              0.70         0.00             1.9      0.076   \n",
       "1            7.8              0.88         0.00             2.6      0.098   \n",
       "2            7.8              0.76         0.04             2.3      0.092   \n",
       "3           11.2              0.28         0.56             1.9      0.075   \n",
       "4            7.4              0.70         0.00             1.9      0.076   \n",
       "\n",
       "   free sulfur dioxide  total sulfur dioxide  density    pH  sulphates  \\\n",
       "0                 11.0                  34.0   0.9978  3.51       0.56   \n",
       "1                 25.0                  67.0   0.9968  3.20       0.68   \n",
       "2                 15.0                  54.0   0.9970  3.26       0.65   \n",
       "3                 17.0                  60.0   0.9980  3.16       0.58   \n",
       "4                 11.0                  34.0   0.9978  3.51       0.56   \n",
       "\n",
       "   alcohol  quality  \n",
       "0      9.4        5  \n",
       "1      9.8        5  \n",
       "2      9.8        5  \n",
       "3      9.8        6  \n",
       "4      9.4        5  "
      ]
     },
     "execution_count": 2,
     "metadata": {},
     "output_type": "execute_result"
    }
   ],
   "source": [
    "dataset = pd.read_csv('G:/Jupyter Sketch/Regression/Multiple Linear Regression/Data/wine quality-red.csv')\n",
    "dataset.head()"
   ]
  },
  {
   "cell_type": "code",
   "execution_count": 3,
   "metadata": {},
   "outputs": [],
   "source": [
    "X_train = dataset.iloc[ : int((3/4)*(len(dataset)+1)),: -1].values\n",
    "y_train = dataset.iloc[ : int((3/4)*(len(dataset)+1)), -1].values"
   ]
  },
  {
   "cell_type": "code",
   "execution_count": 4,
   "metadata": {},
   "outputs": [],
   "source": [
    "X_test = dataset.iloc[len(X_train): , :-1].values\n",
    "y_test = dataset.iloc[len(y_train): , -1].values"
   ]
  },
  {
   "cell_type": "code",
   "execution_count": 5,
   "metadata": {},
   "outputs": [
    {
     "data": {
      "text/plain": [
       "399"
      ]
     },
     "execution_count": 5,
     "metadata": {},
     "output_type": "execute_result"
    }
   ],
   "source": [
    "len(y_test)"
   ]
  },
  {
   "cell_type": "code",
   "execution_count": 6,
   "metadata": {},
   "outputs": [],
   "source": [
    "cols = list(dataset.columns)"
   ]
  },
  {
   "cell_type": "code",
   "execution_count": 7,
   "metadata": {},
   "outputs": [],
   "source": [
    "cols.remove('quality')"
   ]
  },
  {
   "cell_type": "code",
   "execution_count": 8,
   "metadata": {},
   "outputs": [],
   "source": [
    "dataset = dataset[cols]"
   ]
  },
  {
   "cell_type": "code",
   "execution_count": 9,
   "metadata": {},
   "outputs": [
    {
     "data": {
      "text/html": [
       "<div>\n",
       "<style scoped>\n",
       "    .dataframe tbody tr th:only-of-type {\n",
       "        vertical-align: middle;\n",
       "    }\n",
       "\n",
       "    .dataframe tbody tr th {\n",
       "        vertical-align: top;\n",
       "    }\n",
       "\n",
       "    .dataframe thead th {\n",
       "        text-align: right;\n",
       "    }\n",
       "</style>\n",
       "<table border=\"1\" class=\"dataframe\">\n",
       "  <thead>\n",
       "    <tr style=\"text-align: right;\">\n",
       "      <th></th>\n",
       "      <th>fixed acidity</th>\n",
       "      <th>volatile acidity</th>\n",
       "      <th>citric acid</th>\n",
       "      <th>residual sugar</th>\n",
       "      <th>chlorides</th>\n",
       "      <th>free sulfur dioxide</th>\n",
       "      <th>total sulfur dioxide</th>\n",
       "      <th>density</th>\n",
       "      <th>pH</th>\n",
       "      <th>sulphates</th>\n",
       "      <th>alcohol</th>\n",
       "    </tr>\n",
       "  </thead>\n",
       "  <tbody>\n",
       "    <tr>\n",
       "      <th>0</th>\n",
       "      <td>7.4</td>\n",
       "      <td>0.70</td>\n",
       "      <td>0.00</td>\n",
       "      <td>1.9</td>\n",
       "      <td>0.076</td>\n",
       "      <td>11.0</td>\n",
       "      <td>34.0</td>\n",
       "      <td>0.9978</td>\n",
       "      <td>3.51</td>\n",
       "      <td>0.56</td>\n",
       "      <td>9.4</td>\n",
       "    </tr>\n",
       "    <tr>\n",
       "      <th>1</th>\n",
       "      <td>7.8</td>\n",
       "      <td>0.88</td>\n",
       "      <td>0.00</td>\n",
       "      <td>2.6</td>\n",
       "      <td>0.098</td>\n",
       "      <td>25.0</td>\n",
       "      <td>67.0</td>\n",
       "      <td>0.9968</td>\n",
       "      <td>3.20</td>\n",
       "      <td>0.68</td>\n",
       "      <td>9.8</td>\n",
       "    </tr>\n",
       "    <tr>\n",
       "      <th>2</th>\n",
       "      <td>7.8</td>\n",
       "      <td>0.76</td>\n",
       "      <td>0.04</td>\n",
       "      <td>2.3</td>\n",
       "      <td>0.092</td>\n",
       "      <td>15.0</td>\n",
       "      <td>54.0</td>\n",
       "      <td>0.9970</td>\n",
       "      <td>3.26</td>\n",
       "      <td>0.65</td>\n",
       "      <td>9.8</td>\n",
       "    </tr>\n",
       "    <tr>\n",
       "      <th>3</th>\n",
       "      <td>11.2</td>\n",
       "      <td>0.28</td>\n",
       "      <td>0.56</td>\n",
       "      <td>1.9</td>\n",
       "      <td>0.075</td>\n",
       "      <td>17.0</td>\n",
       "      <td>60.0</td>\n",
       "      <td>0.9980</td>\n",
       "      <td>3.16</td>\n",
       "      <td>0.58</td>\n",
       "      <td>9.8</td>\n",
       "    </tr>\n",
       "    <tr>\n",
       "      <th>4</th>\n",
       "      <td>7.4</td>\n",
       "      <td>0.70</td>\n",
       "      <td>0.00</td>\n",
       "      <td>1.9</td>\n",
       "      <td>0.076</td>\n",
       "      <td>11.0</td>\n",
       "      <td>34.0</td>\n",
       "      <td>0.9978</td>\n",
       "      <td>3.51</td>\n",
       "      <td>0.56</td>\n",
       "      <td>9.4</td>\n",
       "    </tr>\n",
       "  </tbody>\n",
       "</table>\n",
       "</div>"
      ],
      "text/plain": [
       "   fixed acidity  volatile acidity  citric acid  residual sugar  chlorides  \\\n",
       "0            7.4              0.70         0.00             1.9      0.076   \n",
       "1            7.8              0.88         0.00             2.6      0.098   \n",
       "2            7.8              0.76         0.04             2.3      0.092   \n",
       "3           11.2              0.28         0.56             1.9      0.075   \n",
       "4            7.4              0.70         0.00             1.9      0.076   \n",
       "\n",
       "   free sulfur dioxide  total sulfur dioxide  density    pH  sulphates  \\\n",
       "0                 11.0                  34.0   0.9978  3.51       0.56   \n",
       "1                 25.0                  67.0   0.9968  3.20       0.68   \n",
       "2                 15.0                  54.0   0.9970  3.26       0.65   \n",
       "3                 17.0                  60.0   0.9980  3.16       0.58   \n",
       "4                 11.0                  34.0   0.9978  3.51       0.56   \n",
       "\n",
       "   alcohol  \n",
       "0      9.4  \n",
       "1      9.8  \n",
       "2      9.8  \n",
       "3      9.8  \n",
       "4      9.4  "
      ]
     },
     "execution_count": 9,
     "metadata": {},
     "output_type": "execute_result"
    }
   ],
   "source": [
    "dataset.head()"
   ]
  },
  {
   "cell_type": "markdown",
   "metadata": {},
   "source": [
    "## Normalising the training and test dataset"
   ]
  },
  {
   "cell_type": "code",
   "execution_count": 10,
   "metadata": {},
   "outputs": [],
   "source": [
    "def normalized(A):\n",
    "    A = (A- np.min(A))/ (np.max(A) - np.min(A))\n",
    "    return A"
   ]
  },
  {
   "cell_type": "code",
   "execution_count": 11,
   "metadata": {},
   "outputs": [],
   "source": [
    "X_train = normalized(X_train)\n",
    "y_train = normalized(y_train)\n",
    "X_test = normalized(X_test)\n",
    "y_test = normalized(y_test)"
   ]
  },
  {
   "cell_type": "code",
   "execution_count": 12,
   "metadata": {},
   "outputs": [],
   "source": [
    "train_dataset = pd.DataFrame(X_train)"
   ]
  },
  {
   "cell_type": "code",
   "execution_count": 13,
   "metadata": {},
   "outputs": [],
   "source": [
    "test_dataset = pd.DataFrame(X_test)"
   ]
  },
  {
   "cell_type": "code",
   "execution_count": 14,
   "metadata": {},
   "outputs": [
    {
     "data": {
      "text/html": [
       "<div>\n",
       "<style scoped>\n",
       "    .dataframe tbody tr th:only-of-type {\n",
       "        vertical-align: middle;\n",
       "    }\n",
       "\n",
       "    .dataframe tbody tr th {\n",
       "        vertical-align: top;\n",
       "    }\n",
       "\n",
       "    .dataframe thead th {\n",
       "        text-align: right;\n",
       "    }\n",
       "</style>\n",
       "<table border=\"1\" class=\"dataframe\">\n",
       "  <thead>\n",
       "    <tr style=\"text-align: right;\">\n",
       "      <th></th>\n",
       "      <th>0</th>\n",
       "      <th>1</th>\n",
       "      <th>2</th>\n",
       "      <th>3</th>\n",
       "      <th>4</th>\n",
       "      <th>5</th>\n",
       "      <th>6</th>\n",
       "      <th>7</th>\n",
       "      <th>8</th>\n",
       "      <th>9</th>\n",
       "      <th>10</th>\n",
       "    </tr>\n",
       "  </thead>\n",
       "  <tbody>\n",
       "    <tr>\n",
       "      <th>0</th>\n",
       "      <td>0.025606</td>\n",
       "      <td>0.002422</td>\n",
       "      <td>0.000000</td>\n",
       "      <td>0.006574</td>\n",
       "      <td>0.000263</td>\n",
       "      <td>0.038062</td>\n",
       "      <td>0.117647</td>\n",
       "      <td>0.003453</td>\n",
       "      <td>0.012145</td>\n",
       "      <td>0.001938</td>\n",
       "      <td>0.032526</td>\n",
       "    </tr>\n",
       "    <tr>\n",
       "      <th>1</th>\n",
       "      <td>0.026990</td>\n",
       "      <td>0.003045</td>\n",
       "      <td>0.000000</td>\n",
       "      <td>0.008997</td>\n",
       "      <td>0.000339</td>\n",
       "      <td>0.086505</td>\n",
       "      <td>0.231834</td>\n",
       "      <td>0.003449</td>\n",
       "      <td>0.011073</td>\n",
       "      <td>0.002353</td>\n",
       "      <td>0.033910</td>\n",
       "    </tr>\n",
       "    <tr>\n",
       "      <th>2</th>\n",
       "      <td>0.026990</td>\n",
       "      <td>0.002630</td>\n",
       "      <td>0.000138</td>\n",
       "      <td>0.007958</td>\n",
       "      <td>0.000318</td>\n",
       "      <td>0.051903</td>\n",
       "      <td>0.186851</td>\n",
       "      <td>0.003450</td>\n",
       "      <td>0.011280</td>\n",
       "      <td>0.002249</td>\n",
       "      <td>0.033910</td>\n",
       "    </tr>\n",
       "    <tr>\n",
       "      <th>3</th>\n",
       "      <td>0.038754</td>\n",
       "      <td>0.000969</td>\n",
       "      <td>0.001938</td>\n",
       "      <td>0.006574</td>\n",
       "      <td>0.000260</td>\n",
       "      <td>0.058824</td>\n",
       "      <td>0.207612</td>\n",
       "      <td>0.003453</td>\n",
       "      <td>0.010934</td>\n",
       "      <td>0.002007</td>\n",
       "      <td>0.033910</td>\n",
       "    </tr>\n",
       "    <tr>\n",
       "      <th>4</th>\n",
       "      <td>0.025606</td>\n",
       "      <td>0.002422</td>\n",
       "      <td>0.000000</td>\n",
       "      <td>0.006574</td>\n",
       "      <td>0.000263</td>\n",
       "      <td>0.038062</td>\n",
       "      <td>0.117647</td>\n",
       "      <td>0.003453</td>\n",
       "      <td>0.012145</td>\n",
       "      <td>0.001938</td>\n",
       "      <td>0.032526</td>\n",
       "    </tr>\n",
       "  </tbody>\n",
       "</table>\n",
       "</div>"
      ],
      "text/plain": [
       "          0         1         2         3         4         5         6  \\\n",
       "0  0.025606  0.002422  0.000000  0.006574  0.000263  0.038062  0.117647   \n",
       "1  0.026990  0.003045  0.000000  0.008997  0.000339  0.086505  0.231834   \n",
       "2  0.026990  0.002630  0.000138  0.007958  0.000318  0.051903  0.186851   \n",
       "3  0.038754  0.000969  0.001938  0.006574  0.000260  0.058824  0.207612   \n",
       "4  0.025606  0.002422  0.000000  0.006574  0.000263  0.038062  0.117647   \n",
       "\n",
       "          7         8         9        10  \n",
       "0  0.003453  0.012145  0.001938  0.032526  \n",
       "1  0.003449  0.011073  0.002353  0.033910  \n",
       "2  0.003450  0.011280  0.002249  0.033910  \n",
       "3  0.003453  0.010934  0.002007  0.033910  \n",
       "4  0.003453  0.012145  0.001938  0.032526  "
      ]
     },
     "execution_count": 14,
     "metadata": {},
     "output_type": "execute_result"
    }
   ],
   "source": [
    "train_dataset.head()"
   ]
  },
  {
   "cell_type": "code",
   "execution_count": 15,
   "metadata": {},
   "outputs": [
    {
     "data": {
      "text/plain": [
       "array([[0.02560554, 0.00242215, 0.        , ..., 0.01214533, 0.00193772,\n",
       "        0.03252595],\n",
       "       [0.02698962, 0.00304498, 0.        , ..., 0.01107266, 0.00235294,\n",
       "        0.03391003],\n",
       "       [0.02698962, 0.00262976, 0.00013841, ..., 0.01128028, 0.00224913,\n",
       "        0.03391003],\n",
       "       ...,\n",
       "       [0.0266436 , 0.00197232, 0.00072664, ..., 0.01093426, 0.00186851,\n",
       "        0.03391003],\n",
       "       [0.0266436 , 0.00089965, 0.00089965, ..., 0.01089965, 0.00273356,\n",
       "        0.03771626],\n",
       "       [0.02733564, 0.00200692, 0.00079585, ..., 0.01110727, 0.00200692,\n",
       "        0.03287197]])"
      ]
     },
     "execution_count": 15,
     "metadata": {},
     "output_type": "execute_result"
    }
   ],
   "source": [
    "X_train"
   ]
  },
  {
   "cell_type": "code",
   "execution_count": 16,
   "metadata": {},
   "outputs": [
    {
     "data": {
      "text/html": [
       "<div>\n",
       "<style scoped>\n",
       "    .dataframe tbody tr th:only-of-type {\n",
       "        vertical-align: middle;\n",
       "    }\n",
       "\n",
       "    .dataframe tbody tr th {\n",
       "        vertical-align: top;\n",
       "    }\n",
       "\n",
       "    .dataframe thead th {\n",
       "        text-align: right;\n",
       "    }\n",
       "</style>\n",
       "<table border=\"1\" class=\"dataframe\">\n",
       "  <thead>\n",
       "    <tr style=\"text-align: right;\">\n",
       "      <th></th>\n",
       "      <th>0</th>\n",
       "      <th>1</th>\n",
       "      <th>2</th>\n",
       "      <th>3</th>\n",
       "      <th>4</th>\n",
       "      <th>5</th>\n",
       "      <th>6</th>\n",
       "      <th>7</th>\n",
       "      <th>8</th>\n",
       "      <th>9</th>\n",
       "      <th>10</th>\n",
       "    </tr>\n",
       "  </thead>\n",
       "  <tbody>\n",
       "    <tr>\n",
       "      <th>0</th>\n",
       "      <td>0.048125</td>\n",
       "      <td>0.003562</td>\n",
       "      <td>0.001312</td>\n",
       "      <td>0.009375</td>\n",
       "      <td>0.000431</td>\n",
       "      <td>0.02500</td>\n",
       "      <td>0.05625</td>\n",
       "      <td>0.006216</td>\n",
       "      <td>0.019750</td>\n",
       "      <td>0.003375</td>\n",
       "      <td>0.061250</td>\n",
       "    </tr>\n",
       "    <tr>\n",
       "      <th>1</th>\n",
       "      <td>0.049375</td>\n",
       "      <td>0.002125</td>\n",
       "      <td>0.002250</td>\n",
       "      <td>0.011875</td>\n",
       "      <td>0.000406</td>\n",
       "      <td>0.03125</td>\n",
       "      <td>0.06250</td>\n",
       "      <td>0.006214</td>\n",
       "      <td>0.020438</td>\n",
       "      <td>0.003375</td>\n",
       "      <td>0.070000</td>\n",
       "    </tr>\n",
       "    <tr>\n",
       "      <th>2</th>\n",
       "      <td>0.053750</td>\n",
       "      <td>0.002625</td>\n",
       "      <td>0.002437</td>\n",
       "      <td>0.011250</td>\n",
       "      <td>0.000425</td>\n",
       "      <td>0.03750</td>\n",
       "      <td>0.07500</td>\n",
       "      <td>0.006220</td>\n",
       "      <td>0.020938</td>\n",
       "      <td>0.004312</td>\n",
       "      <td>0.073125</td>\n",
       "    </tr>\n",
       "    <tr>\n",
       "      <th>3</th>\n",
       "      <td>0.061875</td>\n",
       "      <td>0.004625</td>\n",
       "      <td>0.001187</td>\n",
       "      <td>0.036250</td>\n",
       "      <td>0.000694</td>\n",
       "      <td>0.20625</td>\n",
       "      <td>0.47500</td>\n",
       "      <td>0.006242</td>\n",
       "      <td>0.019625</td>\n",
       "      <td>0.003438</td>\n",
       "      <td>0.058750</td>\n",
       "    </tr>\n",
       "    <tr>\n",
       "      <th>4</th>\n",
       "      <td>0.045000</td>\n",
       "      <td>0.002250</td>\n",
       "      <td>0.002875</td>\n",
       "      <td>0.013125</td>\n",
       "      <td>0.000463</td>\n",
       "      <td>0.15000</td>\n",
       "      <td>0.27500</td>\n",
       "      <td>0.006221</td>\n",
       "      <td>0.021250</td>\n",
       "      <td>0.005312</td>\n",
       "      <td>0.068750</td>\n",
       "    </tr>\n",
       "  </tbody>\n",
       "</table>\n",
       "</div>"
      ],
      "text/plain": [
       "          0         1         2         3         4        5        6  \\\n",
       "0  0.048125  0.003562  0.001312  0.009375  0.000431  0.02500  0.05625   \n",
       "1  0.049375  0.002125  0.002250  0.011875  0.000406  0.03125  0.06250   \n",
       "2  0.053750  0.002625  0.002437  0.011250  0.000425  0.03750  0.07500   \n",
       "3  0.061875  0.004625  0.001187  0.036250  0.000694  0.20625  0.47500   \n",
       "4  0.045000  0.002250  0.002875  0.013125  0.000463  0.15000  0.27500   \n",
       "\n",
       "          7         8         9        10  \n",
       "0  0.006216  0.019750  0.003375  0.061250  \n",
       "1  0.006214  0.020438  0.003375  0.070000  \n",
       "2  0.006220  0.020938  0.004312  0.073125  \n",
       "3  0.006242  0.019625  0.003438  0.058750  \n",
       "4  0.006221  0.021250  0.005312  0.068750  "
      ]
     },
     "execution_count": 16,
     "metadata": {},
     "output_type": "execute_result"
    }
   ],
   "source": [
    "test_dataset.head()"
   ]
  },
  {
   "cell_type": "markdown",
   "metadata": {},
   "source": [
    "## Normal Equation θ = Inv(X.XT).XT.Y"
   ]
  },
  {
   "cell_type": "code",
   "execution_count": 17,
   "metadata": {},
   "outputs": [],
   "source": [
    "X0 = np.ones(shape=(len(X_train),1)) "
   ]
  },
  {
   "cell_type": "code",
   "execution_count": 18,
   "metadata": {},
   "outputs": [],
   "source": [
    "X_train = np.concatenate((X0,X_train), axis =1)"
   ]
  },
  {
   "cell_type": "code",
   "execution_count": 19,
   "metadata": {},
   "outputs": [],
   "source": [
    "Xtrain_XT = np.dot(X_train.T, X_train) # Generally X.XT but np linear algebra is giving me an error of singular matrix"
   ]
  },
  {
   "cell_type": "code",
   "execution_count": 20,
   "metadata": {},
   "outputs": [
    {
     "data": {
      "text/plain": [
       "(12, 12)"
      ]
     },
     "execution_count": 20,
     "metadata": {},
     "output_type": "execute_result"
    }
   ],
   "source": [
    "Xtrain_XT.shape"
   ]
  },
  {
   "cell_type": "code",
   "execution_count": 21,
   "metadata": {},
   "outputs": [
    {
     "data": {
      "text/plain": [
       "(1200,)"
      ]
     },
     "execution_count": 21,
     "metadata": {},
     "output_type": "execute_result"
    }
   ],
   "source": [
    "y_train.shape"
   ]
  },
  {
   "cell_type": "code",
   "execution_count": 22,
   "metadata": {},
   "outputs": [
    {
     "data": {
      "text/plain": [
       "(12, 1200)"
      ]
     },
     "execution_count": 22,
     "metadata": {},
     "output_type": "execute_result"
    }
   ],
   "source": [
    "X_train.T.shape"
   ]
  },
  {
   "cell_type": "code",
   "execution_count": 23,
   "metadata": {},
   "outputs": [],
   "source": [
    "Xtrain_XT_Inv = np.linalg.inv(Xtrain_XT)"
   ]
  },
  {
   "cell_type": "code",
   "execution_count": 24,
   "metadata": {},
   "outputs": [],
   "source": [
    "Xtrain_XT_Inv_XT = np.dot(Xtrain_XT_Inv, X_train.T)"
   ]
  },
  {
   "cell_type": "code",
   "execution_count": 25,
   "metadata": {},
   "outputs": [
    {
     "data": {
      "text/plain": [
       "(12, 1200)"
      ]
     },
     "execution_count": 25,
     "metadata": {},
     "output_type": "execute_result"
    }
   ],
   "source": [
    "Xtrain_XT_Inv_XT.shape"
   ]
  },
  {
   "cell_type": "code",
   "execution_count": 26,
   "metadata": {},
   "outputs": [],
   "source": [
    "thetas_Neq = np.dot(Xtrain_XT_Inv_XT,y_train)"
   ]
  },
  {
   "cell_type": "code",
   "execution_count": 27,
   "metadata": {},
   "outputs": [
    {
     "data": {
      "text/plain": [
       "(12,)"
      ]
     },
     "execution_count": 27,
     "metadata": {},
     "output_type": "execute_result"
    }
   ],
   "source": [
    "thetas_Neq.shape"
   ]
  },
  {
   "cell_type": "code",
   "execution_count": 28,
   "metadata": {},
   "outputs": [
    {
     "data": {
      "text/plain": [
       "array([ 7.92296708e+00,  2.70635193e+00, -6.17644133e+01, -1.55527126e+01,\n",
       "        2.00203731e+00, -9.28035957e+01,  2.01557391e-01, -2.18139544e-01,\n",
       "       -2.26175928e+03, -1.46716669e+01,  4.46143565e+01,  1.55746276e+01])"
      ]
     },
     "execution_count": 28,
     "metadata": {},
     "output_type": "execute_result"
    }
   ],
   "source": [
    "thetas_Neq"
   ]
  },
  {
   "cell_type": "code",
   "execution_count": 29,
   "metadata": {},
   "outputs": [
    {
     "data": {
      "text/plain": [
       "(399, 11)"
      ]
     },
     "execution_count": 29,
     "metadata": {},
     "output_type": "execute_result"
    }
   ],
   "source": [
    "X_test.shape"
   ]
  },
  {
   "cell_type": "code",
   "execution_count": 30,
   "metadata": {},
   "outputs": [],
   "source": [
    "X0_test = np.ones(shape=(len(X_test),1))"
   ]
  },
  {
   "cell_type": "code",
   "execution_count": 31,
   "metadata": {},
   "outputs": [
    {
     "data": {
      "text/plain": [
       "(399, 1)"
      ]
     },
     "execution_count": 31,
     "metadata": {},
     "output_type": "execute_result"
    }
   ],
   "source": [
    "X0_test.shape"
   ]
  },
  {
   "cell_type": "code",
   "execution_count": 32,
   "metadata": {},
   "outputs": [
    {
     "data": {
      "text/plain": [
       "(399, 11)"
      ]
     },
     "execution_count": 32,
     "metadata": {},
     "output_type": "execute_result"
    }
   ],
   "source": [
    "X_test.shape"
   ]
  },
  {
   "cell_type": "code",
   "execution_count": 33,
   "metadata": {},
   "outputs": [],
   "source": [
    "X_test = np.concatenate((X0_test,X_test), axis =1)"
   ]
  },
  {
   "cell_type": "markdown",
   "metadata": {},
   "source": [
    "## Predction Function"
   ]
  },
  {
   "cell_type": "code",
   "execution_count": 34,
   "metadata": {},
   "outputs": [],
   "source": [
    "def pred(X, theta):\n",
    "    predct = np.dot(X, theta)\n",
    "    return predct"
   ]
  },
  {
   "cell_type": "code",
   "execution_count": 35,
   "metadata": {},
   "outputs": [],
   "source": [
    "y_pred_Neq = pred(X_test, thetas_Neq)\n"
   ]
  },
  {
   "cell_type": "code",
   "execution_count": 36,
   "metadata": {},
   "outputs": [],
   "source": [
    "y_pred_Neq = normalized(y_pred_Neq)"
   ]
  },
  {
   "cell_type": "code",
   "execution_count": 37,
   "metadata": {},
   "outputs": [
    {
     "data": {
      "text/plain": [
       "(399,)"
      ]
     },
     "execution_count": 37,
     "metadata": {},
     "output_type": "execute_result"
    }
   ],
   "source": [
    "y_pred_Neq.shape"
   ]
  },
  {
   "cell_type": "markdown",
   "metadata": {},
   "source": [
    "## Mean Square Error Function"
   ]
  },
  {
   "cell_type": "code",
   "execution_count": 38,
   "metadata": {
    "scrolled": true
   },
   "outputs": [],
   "source": [
    "def error(y_pred, y_test):\n",
    "    err =  np.sum((y_pred - y_test)**2)/(2*len(y_test))\n",
    "    return err\n"
   ]
  },
  {
   "cell_type": "code",
   "execution_count": 39,
   "metadata": {},
   "outputs": [
    {
     "name": "stdout",
     "output_type": "stream",
     "text": [
      "MSE =  0.014446819833745355\n"
     ]
    },
    {
     "data": {
      "text/plain": [
       "array([0.42885148, 0.68149471, 0.73170787, 0.25904511, 0.66326389,\n",
       "       0.66326389, 0.66326389, 0.36874757, 0.66326389, 0.69246336,\n",
       "       0.46285929, 0.3666301 , 0.46285929, 0.64346198, 0.58561019,\n",
       "       0.70143947, 0.28414376, 0.83054936, 0.59070145, 0.70540255,\n",
       "       0.704192  , 0.704192  , 0.27738265, 0.82541808, 0.65173964,\n",
       "       0.28864753, 0.34822969, 0.38865046, 0.87257136, 0.34682992,\n",
       "       0.82835459, 0.38083265, 0.34682992, 0.49700248, 0.67779521,\n",
       "       0.67083358, 0.400828  , 0.67779521, 0.25450165, 0.62343326,\n",
       "       0.27024473, 0.46556142, 0.78295997, 0.24285223, 0.54496832,\n",
       "       0.46344305, 0.30799131, 0.46344305, 0.64108463, 0.52874935,\n",
       "       0.52874935, 0.36087695, 0.29018882, 0.32466119, 0.49053703,\n",
       "       0.46425185, 0.27899808, 0.49862622, 0.51884188, 0.51884188,\n",
       "       0.21759253, 0.33513676, 0.43484658, 0.22648583, 0.75671079,\n",
       "       0.45066537, 0.45066537, 0.79409266, 0.33386421, 0.96850056,\n",
       "       1.        , 0.65739133, 0.57373229, 0.32244375, 0.54814969,\n",
       "       0.19405732, 0.80528622, 0.3155977 , 0.19405732, 0.77905601,\n",
       "       0.49320013, 0.49320013, 0.47834628, 0.35501762, 0.57669412,\n",
       "       0.55514824, 0.87142313, 0.79268403, 0.45885347, 0.45885347,\n",
       "       0.4779263 , 0.52737509, 0.79187051, 0.27706119, 0.52737509,\n",
       "       0.30455089, 0.30455089, 0.72739461, 0.69037672, 0.        ,\n",
       "       0.62295619, 0.43855355, 0.74586466, 0.64655859, 0.14682326,\n",
       "       0.2644325 , 0.29097694, 0.49873658, 0.29097694, 0.26844054,\n",
       "       0.2644325 , 0.81395067, 0.14542653, 0.43613405, 0.4341866 ,\n",
       "       0.2538078 , 0.56903389, 0.71121886, 0.2538078 , 0.19344435,\n",
       "       0.30492917, 0.56113902, 0.7348583 , 0.71210169, 0.51572418,\n",
       "       0.51572418, 0.51572418, 0.51572418, 0.31006395, 0.25822432,\n",
       "       0.25822432, 0.10578282, 0.45262139, 0.23174429, 0.22876051,\n",
       "       0.75531141, 0.36332571, 0.36332571, 0.36332571, 0.4893929 ,\n",
       "       0.4893929 , 0.4893929 , 0.45245447, 0.4893929 , 0.61536888,\n",
       "       0.49519248, 0.57102679, 0.27561911, 0.27561911, 0.49225146,\n",
       "       0.35945369, 0.6016222 , 0.316208  , 0.316208  , 0.39307959,\n",
       "       0.44224887, 0.43948719, 0.51617157, 0.20905897, 0.51477755,\n",
       "       0.49049789, 0.23130645, 0.51477755, 0.16965818, 0.57104244,\n",
       "       0.35962253, 0.25563624, 0.50242772, 0.19098803, 0.42086788,\n",
       "       0.13652767, 0.69628918, 0.13652767, 0.13501267, 0.14295716,\n",
       "       0.25713901, 0.25611727, 0.55976857, 0.42242391, 0.52791204,\n",
       "       0.52791204, 0.19505027, 0.25412884, 0.25412884, 0.15077993,\n",
       "       0.12328115, 0.32453138, 0.32453138, 0.40185734, 0.33967073,\n",
       "       0.75088649, 0.46306099, 0.39027704, 0.38200208, 0.23789386,\n",
       "       0.33094617, 0.34183874, 0.24533607, 0.39510246, 0.55519316,\n",
       "       0.17794037, 0.17794037, 0.79386041, 0.68798993, 0.44075266,\n",
       "       0.80655941, 0.81727425, 0.62114914, 0.97540452, 0.62114914,\n",
       "       0.42697827, 0.50996152, 0.81727425, 0.47151489, 0.50913372,\n",
       "       0.39034728, 0.50913372, 0.81489883, 0.41723744, 0.19949737,\n",
       "       0.41723744, 0.36767115, 0.67053899, 0.51861693, 0.51171962,\n",
       "       0.51171962, 0.77883508, 0.61309344, 0.51036467, 0.82404254,\n",
       "       0.51302058, 0.37771527, 0.77618726, 0.52488824, 0.34808353,\n",
       "       0.34808353, 0.19326063, 0.35100123, 0.42823654, 0.46778994,\n",
       "       0.71730265, 0.17084536, 0.39525648, 0.60442002, 0.47157608,\n",
       "       0.17463151, 0.39525648, 0.35494416, 0.39863466, 0.72583361,\n",
       "       0.71730265, 0.65533748, 0.68429317, 0.21915112, 0.58715073,\n",
       "       0.4042903 , 0.45958509, 0.21915112, 0.5903985 , 0.89752307,\n",
       "       0.50587956, 0.30315157, 0.43270842, 0.46461044, 0.3797027 ,\n",
       "       0.3797027 , 0.42960846, 0.28684726, 0.42960846, 0.16358542,\n",
       "       0.37797262, 0.69734341, 0.64014361, 0.49184358, 0.33242097,\n",
       "       0.89599758, 0.33242097, 0.89978372, 0.29638699, 0.56224229,\n",
       "       0.37443649, 0.56224229, 0.3591944 , 0.62602219, 0.3809481 ,\n",
       "       0.31323437, 0.3929595 , 0.50857686, 0.57285981, 0.58836919,\n",
       "       0.85517245, 0.57285981, 0.60164647, 0.20223546, 0.56722332,\n",
       "       0.63676509, 0.20223546, 0.55510876, 0.35698854, 0.55510876,\n",
       "       0.32104665, 0.19900038, 0.31394638, 0.57321536, 0.59233267,\n",
       "       0.32270564, 0.42076311, 0.59233267, 0.57411041, 0.77774507,\n",
       "       0.49001308, 0.35553021, 0.37948377, 0.45070514, 0.14584259,\n",
       "       0.14773567, 0.63973888, 0.55512324, 0.46678992, 0.33475528,\n",
       "       0.55512324, 0.27031803, 0.63973888, 0.46021329, 0.50001721,\n",
       "       0.44483454, 0.44134954, 0.57492046, 0.48265255, 0.39036662,\n",
       "       0.6802935 , 0.35166337, 0.49330863, 0.29452014, 0.6416032 ,\n",
       "       0.37582157, 0.44630586, 0.43212717, 0.59903244, 0.47275739,\n",
       "       0.611126  , 0.67331958, 0.39924978, 0.56188876, 0.75001714,\n",
       "       0.39626149, 0.46143121, 0.635396  , 0.51941031, 0.73522427,\n",
       "       0.26087519, 0.26340538, 0.50389246, 0.26028048, 0.39937802,\n",
       "       0.51355349, 0.24221183, 0.39937802, 0.17024564, 0.22954776,\n",
       "       0.22954776, 0.22954776, 0.37422416, 0.37422416, 0.37422416,\n",
       "       0.56303814, 0.71067565, 0.37422416, 0.30368124, 0.6040898 ,\n",
       "       0.76263804, 0.66288716, 0.16835542, 0.65450293, 0.51267077,\n",
       "       0.68281365, 0.64316362, 0.57025033, 0.51112464, 0.58239494,\n",
       "       0.73720903, 0.58239494, 0.55339577, 0.33271333, 0.77466842,\n",
       "       0.72626688, 0.75587682, 0.49957246, 0.69058604, 0.21959646,\n",
       "       0.70916316, 0.46609688, 0.58936913, 0.39634455, 0.43525849,\n",
       "       0.59757178, 0.58936913, 0.40066323, 0.61874368])"
      ]
     },
     "execution_count": 39,
     "metadata": {},
     "output_type": "execute_result"
    }
   ],
   "source": [
    "error_Neq = error(y_pred_Neq, y_test)\n",
    "print('MSE = ',error_Neq)\n",
    "y_pred_Neq"
   ]
  },
  {
   "cell_type": "code",
   "execution_count": 40,
   "metadata": {},
   "outputs": [
    {
     "data": {
      "text/plain": [
       "array([0.6, 0.8, 1. , 0.4, 0.8, 0.8, 0.8, 0.4, 0.8, 0.8, 0.6, 0.4, 0.6,\n",
       "       0.6, 0.6, 0.6, 0.6, 0.6, 0.6, 0.6, 0.6, 0.6, 0.6, 0.6, 0.6, 0.4,\n",
       "       0.4, 0.4, 0.8, 0.4, 0.6, 0.4, 0.4, 0.2, 0.6, 0.2, 0.6, 0.6, 0.2,\n",
       "       0.2, 0.4, 0.4, 0.6, 0.4, 0.6, 0.4, 0.4, 0.4, 0.6, 0.6, 0.6, 0.4,\n",
       "       0.4, 0.4, 0.4, 0.4, 0.4, 0.6, 0.6, 0.6, 0.4, 0.2, 0.4, 0.2, 0.6,\n",
       "       0.6, 0.6, 0.6, 0.6, 1. , 0.6, 0.6, 0.4, 0.4, 0.6, 0.6, 0.2, 0.6,\n",
       "       0.6, 0.8, 0.6, 0.6, 0.6, 0.6, 0.4, 0.4, 0.6, 0.4, 0.4, 0.4, 0.4,\n",
       "       0.6, 0.6, 0.2, 0.6, 0.4, 0.4, 0.6, 0.6, 0. , 0.6, 0.6, 0.6, 0.4,\n",
       "       0.4, 0.4, 0.4, 0.2, 0.4, 0.4, 0.4, 0.6, 0.4, 0.6, 0.6, 0.6, 0.6,\n",
       "       0.6, 0.6, 0.6, 0.4, 0.6, 0.4, 0.8, 0.6, 0.6, 0.6, 0.6, 0.4, 0.6,\n",
       "       0.6, 0.4, 0.6, 0.4, 0.4, 0.6, 0.4, 0.4, 0.4, 0.6, 0.6, 0.6, 0.6,\n",
       "       0.6, 0.4, 0.6, 0.4, 0.4, 0.4, 0.4, 0.4, 0.6, 0.4, 0.4, 0.4, 0.4,\n",
       "       0.4, 0.6, 0.4, 0.6, 0.4, 0.4, 0.6, 0.2, 0.6, 0.4, 0.4, 0.6, 0.6,\n",
       "       0.2, 0.4, 0.6, 0.4, 0.4, 0. , 0.4, 0.4, 0.6, 0.6, 0.6, 0.6, 0.4,\n",
       "       0.4, 0.4, 0.4, 0.4, 0.4, 0.4, 0.4, 0.4, 0.6, 0.4, 0.4, 0.4, 0.4,\n",
       "       0.6, 0.4, 0.4, 0.8, 0.6, 0.4, 0.4, 0.6, 1. , 0.6, 0.8, 0.6, 0.6,\n",
       "       0.8, 0.6, 0.6, 0.6, 0.6, 0.4, 0.4, 0.4, 0.4, 0.8, 0.4, 0.4, 0.4,\n",
       "       0.4, 0.6, 0.2, 0.6, 0.6, 0.6, 0.4, 0.4, 0.4, 0.4, 0.6, 0.6, 0.8,\n",
       "       0.6, 0.6, 0.4, 0.4, 0.4, 0.6, 0.8, 0.6, 0.4, 0.4, 0.6, 0.6, 0.4,\n",
       "       0.4, 0.4, 1. , 0.8, 0.8, 0.8, 0.4, 0.6, 0.6, 0.6, 0.4, 0.4, 0.8,\n",
       "       0.6, 0.2, 0.6, 0.6, 0.4, 0.4, 0.8, 0.2, 0.8, 0. , 0.4, 0.4, 0.6,\n",
       "       0.4, 0.4, 0.8, 0.4, 0.8, 0. , 0.4, 0.2, 0.4, 0.2, 0.4, 0.2, 0.4,\n",
       "       0.4, 0.4, 0.4, 0.6, 0.6, 0.4, 0.4, 0.4, 0.8, 0.6, 0.4, 0.6, 0.6,\n",
       "       0.6, 0.4, 0.4, 0.4, 0.6, 0.6, 0. , 0.6, 0.6, 0.6, 0.4, 0.6, 0.4,\n",
       "       0.6, 0.6, 0.6, 0.6, 0.4, 0.6, 0.4, 0.4, 0.6, 0.2, 0.4, 0.4, 0.6,\n",
       "       0.4, 0.6, 0.6, 0.6, 0.6, 0.6, 0.4, 0.6, 0.4, 0.8, 0.6, 0.6, 0.6,\n",
       "       0.4, 0.4, 0.6, 0.8, 0.6, 0.6, 0.8, 0.6, 0.4, 0.4, 0.4, 1. , 0.4,\n",
       "       0.4, 0.6, 0.4, 0.6, 0.8, 0.4, 0.6, 0.4, 0.4, 0.4, 0.4, 0.4, 0.4,\n",
       "       0.4, 0.6, 0.6, 0.4, 0.4, 0.6, 0.6, 0.6, 0.4, 0.6, 0.6, 0.6, 0.6,\n",
       "       0.6, 0.6, 0.4, 0.6, 0.4, 0.4, 0.4, 0.8, 0.6, 0.6, 0.6, 0.6, 0.4,\n",
       "       0.6, 0.6, 0.6, 0.6, 0.4, 0.6, 0.6, 0.4, 0.6])"
      ]
     },
     "execution_count": 40,
     "metadata": {},
     "output_type": "execute_result"
    }
   ],
   "source": [
    "y_test"
   ]
  },
  {
   "cell_type": "markdown",
   "metadata": {},
   "source": [
    "## Gradient Descent"
   ]
  },
  {
   "cell_type": "code",
   "execution_count": 41,
   "metadata": {},
   "outputs": [],
   "source": [
    "def gradient_descent(X, y, thetas_gd, alpha, itrs):\n",
    "    for i in range(itrs):\n",
    "        for j in range(thetas_gd.shape[1]):\n",
    "            thetas_gd[: j] = thetas_gd - (alpha/len(X))*(np.sum((np.dot(thetas_gd, X.T)-y)*X[:,j]))\n",
    "    return thetas_gd"
   ]
  },
  {
   "cell_type": "code",
   "execution_count": 42,
   "metadata": {},
   "outputs": [],
   "source": [
    "thetas_gd = np.random.rand(1, len(cols)+1) "
   ]
  },
  {
   "cell_type": "code",
   "execution_count": 43,
   "metadata": {},
   "outputs": [],
   "source": [
    "thetas_gd = gradient_descent(X_train, y_train, thetas_gd, 0.01, 100000)"
   ]
  },
  {
   "cell_type": "code",
   "execution_count": 44,
   "metadata": {},
   "outputs": [
    {
     "data": {
      "text/plain": [
       "array([[0.3509742 , 0.84659039, 0.5244271 , 0.70367111, 1.12382264,\n",
       "        0.67880577, 0.31174986, 0.37965524, 0.67529752, 0.32778848,\n",
       "        0.57285552, 0.59673566]])"
      ]
     },
     "execution_count": 44,
     "metadata": {},
     "output_type": "execute_result"
    }
   ],
   "source": [
    "thetas_gd"
   ]
  },
  {
   "cell_type": "code",
   "execution_count": 45,
   "metadata": {},
   "outputs": [
    {
     "data": {
      "text/plain": [
       "(1, 12)"
      ]
     },
     "execution_count": 45,
     "metadata": {},
     "output_type": "execute_result"
    }
   ],
   "source": [
    "thetas_gd.shape"
   ]
  },
  {
   "cell_type": "code",
   "execution_count": 46,
   "metadata": {},
   "outputs": [
    {
     "data": {
      "text/plain": [
       "(399, 12)"
      ]
     },
     "execution_count": 46,
     "metadata": {},
     "output_type": "execute_result"
    }
   ],
   "source": [
    "X_test.shape"
   ]
  },
  {
   "cell_type": "code",
   "execution_count": 47,
   "metadata": {},
   "outputs": [],
   "source": [
    "y_pred_gd = pred(thetas_gd,X_test.T)"
   ]
  },
  {
   "cell_type": "code",
   "execution_count": 48,
   "metadata": {},
   "outputs": [
    {
     "data": {
      "text/plain": [
       "array([[0.48364113, 0.49716421, 0.5098365 , 0.74013792, 0.61374089,\n",
       "        0.61374089, 0.61374089, 0.64253852, 0.61374089, 0.54167519,\n",
       "        0.50750412, 0.61960607, 0.50750412, 0.51160365, 0.50584648,\n",
       "        0.57840629, 0.66617706, 0.72853225, 0.53611107, 0.63268194,\n",
       "        0.61929188, 0.61929188, 0.73613947, 0.55595537, 0.55387742,\n",
       "        0.68615638, 0.6299726 , 0.53079372, 0.70110815, 0.6514653 ,\n",
       "        0.63780194, 0.77424647, 0.6514653 , 0.58298155, 0.5311954 ,\n",
       "        0.81172829, 0.50849777, 0.5311954 , 0.54304615, 0.54417843,\n",
       "        0.66498213, 0.68178731, 0.59858527, 0.68721688, 1.04996848,\n",
       "        0.56861286, 0.59789694, 0.56861286, 0.58963169, 0.59560232,\n",
       "        0.59560232, 0.65351975, 0.49887633, 0.49645337, 0.58479607,\n",
       "        0.61633559, 0.67907029, 0.66686641, 0.57171742, 0.57171742,\n",
       "        0.63499748, 0.54741583, 0.69602108, 0.54833881, 0.64087615,\n",
       "        0.57594475, 0.57594475, 0.55265507, 0.61522172, 0.72213959,\n",
       "        0.64985327, 0.65878713, 0.60552223, 0.62522325, 0.5829508 ,\n",
       "        0.67882781, 0.53073809, 0.48307055, 0.67882781, 0.50049361,\n",
       "        0.63947623, 0.63947623, 0.53353858, 0.66771103, 0.58097634,\n",
       "        0.62955794, 0.57476674, 0.4971738 , 0.77638475, 0.77638475,\n",
       "        0.50176906, 0.65730794, 0.55512708, 0.49598011, 0.65730794,\n",
       "        0.74962411, 0.74962411, 0.56285165, 0.51610582, 0.49624877,\n",
       "        0.5524546 , 0.63610941, 0.51575135, 0.68027055, 0.65997601,\n",
       "        0.71244144, 0.73353592, 0.56974648, 0.73353592, 0.65013589,\n",
       "        0.71244144, 0.55735349, 0.58824421, 0.65060933, 0.66856095,\n",
       "        0.70687251, 0.59203745, 0.59700464, 0.70687251, 0.65408493,\n",
       "        0.7077325 , 0.58992097, 0.53041814, 0.64101595, 0.56982992,\n",
       "        0.56982992, 0.56982992, 0.56982992, 0.56359684, 0.70689332,\n",
       "        0.70689332, 0.68961197, 0.52865883, 0.60405269, 0.49076155,\n",
       "        0.59744447, 0.53347918, 0.53347918, 0.53347918, 0.55578139,\n",
       "        0.55578139, 0.55578139, 0.5637491 , 0.55578139, 0.55041165,\n",
       "        0.55000786, 0.49673727, 0.49430998, 0.49430998, 0.60089374,\n",
       "        0.70213047, 0.58914525, 0.62084721, 0.62084721, 0.53788731,\n",
       "        0.53440573, 0.52302298, 0.67663579, 0.81362415, 0.55426296,\n",
       "        0.58452072, 0.62040526, 0.55426296, 0.63173557, 0.55513173,\n",
       "        0.57773861, 0.58015968, 0.72733611, 0.66833123, 0.47733266,\n",
       "        0.64434942, 0.51813305, 0.64434942, 0.74709016, 0.54855045,\n",
       "        0.71873047, 0.54504999, 0.67770156, 0.5412014 , 0.56927048,\n",
       "        0.56927048, 0.51868317, 0.75882941, 0.75882941, 0.69102074,\n",
       "        0.7357584 , 0.52461029, 0.52461029, 0.61438474, 0.78603402,\n",
       "        0.56855866, 0.55588165, 0.48744111, 0.63822979, 0.68787656,\n",
       "        0.49404728, 0.49411073, 0.7366712 , 0.54976024, 0.53862542,\n",
       "        0.85953069, 0.85953069, 0.53549553, 0.49255075, 0.60116763,\n",
       "        0.58029969, 0.55534339, 0.660174  , 0.66674075, 0.660174  ,\n",
       "        0.50706275, 0.51961329, 0.55534339, 0.70670244, 0.51411762,\n",
       "        0.50505859, 0.51411762, 0.59765773, 0.50539124, 0.83789065,\n",
       "        0.50539124, 0.63690495, 0.66803528, 0.570524  , 0.52688803,\n",
       "        0.52688803, 0.65298493, 0.53295031, 0.64537521, 0.70030543,\n",
       "        0.60416067, 0.65966111, 0.48500338, 0.53048136, 0.89707589,\n",
       "        0.89707589, 0.72962103, 0.60177445, 0.47822299, 0.74105796,\n",
       "        0.55724146, 0.74824367, 0.55997911, 0.5270992 , 0.74118228,\n",
       "        0.74836799, 0.55997911, 0.58824175, 0.65914783, 0.55968514,\n",
       "        0.55724146, 0.52541067, 0.65709049, 0.70904077, 0.55502237,\n",
       "        0.5119267 , 0.73492054, 0.70904077, 0.52585702, 0.5146167 ,\n",
       "        0.67352065, 0.49493605, 0.55844278, 0.57981143, 0.64330826,\n",
       "        0.64330826, 0.64672187, 0.5740598 , 0.64672187, 0.61241459,\n",
       "        0.53731992, 0.52932242, 0.61812188, 0.58664535, 0.83930284,\n",
       "        0.70424352, 0.83930284, 0.70436784, 0.52216041, 0.54424507,\n",
       "        0.48776814, 0.54424507, 0.48726795, 0.50088341, 0.49277749,\n",
       "        0.53009013, 0.52895424, 0.51027574, 0.49169962, 0.48918199,\n",
       "        0.52191485, 0.49169962, 0.51003508, 0.85114848, 0.54303586,\n",
       "        0.55235696, 0.85114848, 0.51444323, 0.50372603, 0.51444323,\n",
       "        0.50382905, 0.66717783, 0.63056438, 0.50462251, 0.50480555,\n",
       "        0.4929845 , 0.50311998, 0.50480555, 0.55282294, 0.52394591,\n",
       "        0.61739841, 0.55730974, 0.51763572, 0.63998718, 0.65414229,\n",
       "        0.65420445, 0.63851231, 0.61510301, 0.52314845, 0.54997144,\n",
       "        0.61510301, 0.52218145, 0.63851231, 0.65722488, 0.60492298,\n",
       "        0.5686129 , 0.57890444, 0.5425861 , 0.64371243, 0.66279547,\n",
       "        0.51951954, 0.5497661 , 0.54308447, 0.71813378, 0.55667606,\n",
       "        0.56781023, 0.60497747, 0.55962467, 0.55362268, 0.66430538,\n",
       "        0.57142391, 0.6157409 , 0.60266237, 0.55277919, 0.53877908,\n",
       "        0.55043589, 0.55045154, 0.54165041, 0.63530269, 0.55151447,\n",
       "        0.55072007, 0.55463333, 0.65939197, 0.55771557, 0.54433976,\n",
       "        0.54201633, 0.52589213, 0.54433976, 0.88877529, 0.83055271,\n",
       "        0.83055271, 0.83055271, 0.52767276, 0.52767276, 0.52767276,\n",
       "        0.60736477, 0.63027058, 0.52767276, 0.59782731, 0.56580885,\n",
       "        0.58552045, 0.54583381, 0.77226964, 0.6110975 , 0.79814452,\n",
       "        0.53784472, 0.56266328, 0.57026181, 0.53149119, 0.57661024,\n",
       "        0.54671547, 0.57661024, 0.55159711, 0.7463104 , 0.59103107,\n",
       "        0.62444621, 0.67583049, 0.55306803, 0.78023721, 0.73540419,\n",
       "        0.59064221, 0.54453743, 0.60936784, 0.59727594, 0.61978719,\n",
       "        0.65305839, 0.60936784, 0.61805442, 0.60064127]])"
      ]
     },
     "execution_count": 48,
     "metadata": {},
     "output_type": "execute_result"
    }
   ],
   "source": [
    "y_pred_gd"
   ]
  },
  {
   "cell_type": "code",
   "execution_count": 49,
   "metadata": {},
   "outputs": [
    {
     "name": "stdout",
     "output_type": "stream",
     "text": [
      "MSE_GD =  0.021621935474684526\n"
     ]
    }
   ],
   "source": [
    "error_gd = error(y_pred_gd, y_test)\n",
    "print('MSE_GD = ',error_gd)"
   ]
  },
  {
   "cell_type": "code",
   "execution_count": null,
   "metadata": {},
   "outputs": [],
   "source": []
  }
 ],
 "metadata": {
  "kernelspec": {
   "display_name": "Python 3",
   "language": "python",
   "name": "python3"
  },
  "language_info": {
   "codemirror_mode": {
    "name": "ipython",
    "version": 3
   },
   "file_extension": ".py",
   "mimetype": "text/x-python",
   "name": "python",
   "nbconvert_exporter": "python",
   "pygments_lexer": "ipython3",
   "version": "3.7.6"
  }
 },
 "nbformat": 4,
 "nbformat_minor": 4
}
