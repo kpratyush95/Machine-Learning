{
  "nbformat": 4,
  "nbformat_minor": 0,
  "metadata": {
    "colab": {
      "name": "Tensor and Ranks ",
      "provenance": [],
      "toc_visible": true
    },
    "kernelspec": {
      "name": "python3",
      "display_name": "Python 3"
    }
  },
  "cells": [
    {
      "cell_type": "code",
      "metadata": {
        "id": "Oj-ts9Wtdp0n"
      },
      "source": [
        "import tensorflow as tf\n",
        "import numpy as np"
      ],
      "execution_count": 3,
      "outputs": []
    },
    {
      "cell_type": "markdown",
      "metadata": {
        "id": "ZU6bSgL8d45F"
      },
      "source": [
        "# **Basics**\n",
        "creating some basic tensors.\n",
        "\n",
        "A \"scalar\" or \"rank-0\" tensor . A scalar contains a single value, and no \"axes\"."
      ]
    },
    {
      "cell_type": "markdown",
      "metadata": {
        "id": "OQcg9O62tVy_"
      },
      "source": [
        "Scalar ![scalar.png](data:image/png;base64,iVBORw0KGgoAAAANSUhEUgAAAGcAAABoCAYAAADsF+4sAAABcklEQVR42u3YIU4DQRSA4RWICkQlAlHBAZAIBAkHQCAQFQiOUFGJRCAQHACBQCARlQgOsAKJQCARCEQFAmbTJdlMtrQppTMk35e8pGmn5v1Js52iAAAAAAAAAAAAAAAAAAB+by1MP8xxPbtWko9BmM/GXFlJHrbDfIiTn06YxyiMOJm4aAkjTgb2p4QRJ7FumBdx8nQbxXgWJw/9KMRlHUOcxDbDvDUiPIVZFycP940A1X+bnfp9cTK7BThrfCZO4luAcWP5ZTG5TxMng1uAsrH4cR2rECe982jxg5Yz4iSwFy39Ifo5EyeTW4D3ML0pZ8VZsZto4Sc/nBVnhY6iZd/NOC9OoluA1zAb4uR3C1DN4RzfESfBLcD1nN8T549tRbcA1euD+nF61oyiOKOWMx0rXt5/mmVPz4rFEUec1aqWd7rglFGIsuVM14rT8LQmDuKIgziIIw4LGRaT2+zvGVoJAAAAAAAAAAAAAAAAAPCPfQFTDyAG/yNt5AAAAABJRU5ErkJggg==)\n",
        "Vector ![vector.png](data:image/png;base64,iVBORw0KGgoAAAANSUhEUgAAAG0AAABjCAYAAACR8o4mAAAESklEQVR42u2dLVAjQRCFR0REREQgEIgVEQhEBAIRkaoTCAQiAoGIOHECgUCcQEScOIFARCAQERERCMQJBAKBiEAgECciIiIQKSoiAoHIbRdvi6m53fxOmFnyvqouyO6SmfSbnun96aAUIYQQQgghhBBCCCErRRDa+pTH5S23ncX75iYcl5nyuHlZRxuT+pl1LdZmaH9Du8fPm4ROyQd6Cq0dWi+0Y0vtl/B+d6F1QjsY088ujnsOrWLZD8XQXiHKpH728NoZt6EdaSNZOvUj5riL0M7wex4dL1hoXwbKHn6X9xuO6WdVE7BvMeKyGIzDMaJ1NKF28doZ+8Z0J+KcxhzXxWiMaFmKtkCbkgKM9kyMU98Mkdqa2Ityjs/STRBtC9Gt07c0aK1MlQN00mRkfKAazBZ1OKaaIOzA2NZKOHZWdhHFaoxoZQwSnUdsdy5Yb8yaIqJtLFG0b6GdoA9BjGg9Y1vDgmhrWKc3phDtztjWdi3a3hSL+8CYDuoJ0+iiXEM807mjmDXuwMK0+IQB0MCadoUBrLMTs4aJwNsuBetN0QHTSQ+IjkUZGKcaMqK/J6ypO1rCZGNNKSFaI+tjwJinPjkIuqZl0kOXqf8z5ueGZvsxyUYZ4kpmeRkzXSwy2ttw2gWyySjhuNeiv4p9Iugf9NM25vTY1abOmtbPtuWlYWaqMVbUFumicS5zilOEnOVor0EQ/X0rRjSVtOMyS/BFxWi/arw+QPsVRQhJOcdsP33tdx13mu3TaRSNTqNobJ+iUTQ6jaKx/aW2/4I/dGVvK97+C0c6p0c6jaKxfYpG0eg0isb2KRrbN+D9rNVunxBCCCGEfHlO6QJn5OZN+aVAL0v/OSEqi54ZqWwp0X9OOFTvZVMzI8UCdfrPCVLZM1fRo9RRSSlTQB9+KlJH111kaZKypEe1vO/eIP8HitTxLVzEfw7hGHHLpYgIs3ah+AhTZR3JSYY+toJMgVLG3ESEVZYRujVklXI60FduHzGLTBbtn2ry1zwV0P9bT/ot9eJSey1lxlKrnV+FUZrHlL2PGaCPn+b6KwXqLcwUv9V7WXHAddofEZsYuTltdpCT1DNeKPAbibZrrLsPSKSI52QQXQ1EHZOmlCBp80jZ+f4r8klsQbQtuiJdSckd3UAIIYQQQgghhMyH3IqR2/VyCauseHXfa+TCsFzRlxu0I83kZuMJ3eMnTYgkN0NriDS56TnE9l90kV+UIYwItJmwT76BZ4Ou8ocGhLlI2P+A/Yd0lV/Jhzz7UaBoX4MipkaxgO7wO/K2kXxEiQi/LcBzWkbaf8nzNf85gknK34NwHU6P6UGegWxDOD6CkCJ2tKmS0ZYiItHKdIUf3CJL3E3Yn9dE26a7/OAKglwn7D9RH9cl+cSxJ5S0SDKv6EvN1yvP1fzkWBOuoz7+y3y0jYUYHkfcjfq4CjLEerdH1xBCCCGEEEIIIYQQ8mn8A2oxr+KvwDAAAAAAAElFTkSuQmCC)\n",
        "Matrix ![matrix.png](data:image/png;base64,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)"
      ]
    },
    {
      "cell_type": "code",
      "metadata": {
        "id": "lzR2vHI9dyVV",
        "outputId": "320aa014-0086-4a90-f9ee-ec2d915853c4",
        "colab": {
          "base_uri": "https://localhost:8080/",
          "height": 34
        }
      },
      "source": [
        "rank_0_tensor = tf.constant(4)\n",
        "print(rank_0_tensor)"
      ],
      "execution_count": 4,
      "outputs": [
        {
          "output_type": "stream",
          "text": [
            "tf.Tensor(4, shape=(), dtype=int32)\n"
          ],
          "name": "stdout"
        }
      ]
    },
    {
      "cell_type": "markdown",
      "metadata": {
        "id": "T2_uDVJDePZL"
      },
      "source": [
        "A \"vector\" or \"rank-1\" tensor is like a list of values. A vector has 1-axis:"
      ]
    },
    {
      "cell_type": "code",
      "metadata": {
        "id": "nyfdKYfeeJVr",
        "outputId": "0a5cce5c-7bc7-4ee1-bf3b-7cdcfff9c44f",
        "colab": {
          "base_uri": "https://localhost:8080/",
          "height": 34
        }
      },
      "source": [
        "rank_1_tensor = tf.constant([2.0, 3, 5.6])\n",
        "print(rank_1_tensor)"
      ],
      "execution_count": 5,
      "outputs": [
        {
          "output_type": "stream",
          "text": [
            "tf.Tensor([2.  3.  5.6], shape=(3,), dtype=float32)\n"
          ],
          "name": "stdout"
        }
      ]
    },
    {
      "cell_type": "markdown",
      "metadata": {
        "id": "_JxlfDvkerxV"
      },
      "source": [
        "A \"matrix\" or \"rank-2\" tensor has 2-axes:"
      ]
    },
    {
      "cell_type": "code",
      "metadata": {
        "id": "iN2LrY1geZ9H",
        "outputId": "f61e114e-632e-4d40-e540-39346c0dd7c9",
        "colab": {
          "base_uri": "https://localhost:8080/",
          "height": 84
        }
      },
      "source": [
        "rank_2_tensor = tf.constant([[1,2],\n",
        "                             [3,4],\n",
        "                             [5,6], \n",
        "                             ])\n",
        "print(rank_2_tensor)"
      ],
      "execution_count": 6,
      "outputs": [
        {
          "output_type": "stream",
          "text": [
            "tf.Tensor(\n",
            "[[1 2]\n",
            " [3 4]\n",
            " [5 6]], shape=(3, 2), dtype=int32)\n"
          ],
          "name": "stdout"
        }
      ]
    },
    {
      "cell_type": "code",
      "metadata": {
        "id": "UAHyZ4Q0e34r",
        "outputId": "8e672a92-d117-478f-b2b4-4fbe6bd7db87",
        "colab": {
          "base_uri": "https://localhost:8080/",
          "height": 168
        }
      },
      "source": [
        "# There can be an arbitrary number of\n",
        "# axes (sometimes called \"dimensions\")\n",
        "rank_3_tensor = tf.constant([\n",
        "  [[0, 1, 2, 3, 4],\n",
        "   [5, 6, 7, 8, 9]],\n",
        "  [[10, 11, 12, 13, 14],\n",
        "   [15, 16, 17, 18, 19]],\n",
        "  [[20, 21, 22, 23, 24],\n",
        "   [25, 26, 27, 28, 29]],])\n",
        "\n",
        "print(rank_3_tensor)"
      ],
      "execution_count": 7,
      "outputs": [
        {
          "output_type": "stream",
          "text": [
            "tf.Tensor(\n",
            "[[[ 0  1  2  3  4]\n",
            "  [ 5  6  7  8  9]]\n",
            "\n",
            " [[10 11 12 13 14]\n",
            "  [15 16 17 18 19]]\n",
            "\n",
            " [[20 21 22 23 24]\n",
            "  [25 26 27 28 29]]], shape=(3, 2, 5), dtype=int32)\n"
          ],
          "name": "stdout"
        }
      ]
    },
    {
      "cell_type": "markdown",
      "metadata": {
        "id": "SALuCFrtuPX2"
      },
      "source": [
        "![3-axis_numpy.png](data:image/png;base64,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)![3-axis_front.png](data:image/png;base64,iVBORw0KGgoAAAANSUhEUgAAASQAAADBCAYAAABmB81pAAAWlElEQVR42u2dD5AU5ZmHp4qBnf2Hy7LA8i9u4qprJGHLNYIKikJEXSOJq6KiBbk9DwMhG0QLlRPEw4iBExUChoiiW0iQQzzXgwtGN7KFhlNPI15QczlicQnWkSu8wipSRYrv+tfTPTRTuwPTM929s/s8VW/tTPfA1/3N9DPv93ZPf7EYAAAAAAAAAAAAAAAAAAAAAAAAAAAAAAAAAAAAAAAAAAAAADhUWzHfiq1WvGrFSivG0S0AEDYSzyErTCex2Yp4hNuWsKLGiThvFUDPRgf6YUc+a5xMSQf+RCt+5yxfGfI2qf0WKzqcbdvnxGEne5vO2wbQM1npSKetk3XnO+uOWFER0vaMsmKvM3SckJYVKVtqtKLdiresGMHbB9Cz2OxkHlO6WO9mT2HUk9TGASumnsJrW5wAgB5IZ/WZitjxWlJtSDKikA4AnQrqZ46M2pERAESBCsYrYskismT0XixZ6EZGABA6+zzDtKNWtMaSZ+IKSUZvxY6fmYsi/reXtk37yZos5FkSEtCEWPIUu8SkwnZdoWRGg4cMOvLx/+wxUcXwkcMia7tPnz7Hotz3srLSSNvvX9E/0vYTicQBFBJsHandkdL2QhmmISSEhJB6Lo2e4VtB1IwQEkJCSIWLhmKTM6yv9dSUKrq7jBASQkJIhc1RRzbnd7G+yVNHKoizaQgJISGkwsUtXG/soob0lrP+Z4UgI4SEkBBSYTPWkyXp+iP3mqN6p5Ct5Qc7OfXffoqCmRIL+TojhISQEFJh0xQ7/pu19NjXxXCuxRHZiljn1ynpR7LPOP++PsydQUgICSEVPsqMFsWSv/pvd4ZwzbHkL+y7Qq/TL/P3x5K3Kml3wn2+6CT/HiEhJIQEeb0k4FXP2bgJTkR6WxCEhJAQUu8kkYezbwgJISEkyBv7YsH91g0hISSEBL1HSPMfuMucWVdr6hu+bi674lLz3r7d9vKHViy2l58zqs7cdf/cQIT02z+9b26efqMZVX+u3Y4ee9dv3/WyvTwoIb39uzfN+MvH2fuufV249D57+a4P203DmPPs0PInnn40ECFp/7zt/HTDT+zlL72+2e4TLb/okrHm1x/tDERI67c8Zbd7wcXfsPtZ2+Ndr8+A1iGkwiHuDNnihSikHbv/xZaHxKDn02feZstHB+TpX/6SLSet04f1lZ1b8y4kHYCSoPtcH373oJQEdLBkm21lI6RZd860Q4+1r2pLB/8NtzadIKcBlQPMB/vfybuQJn/ripTsXn/3F6ZqcJX9WCJ6vu1Z+/EP752T2sZ8C6l62BD7M6DHq597wky66vLUOm2P1iOkwkIF7I5CrSHpINO3sfvc/fCvWLvMXHv9Nanlf/eDZrNgyfy8C0kHuz747nMdEO4BOufuWfb6IIWkttWG+1wS1jJlCsqe3D7qf1p5KnPMp5DU967o1F5JaUkqc3Rf0zxrRlYZajZC2rR9Q+qxBKhs0W1fmdnSlUsQUoGhG/HP7glFbR2E+obWAakPooTgrtNj7/MgakhuRpSeiQQpJG9Ixt4MwQ0NI29tvjnQGpIEoLa1DV5ZKzNVdvbG+78MtIYk2aotZUluXyhDbN36NEIqIHQj/r2xbjhXWrZC0rejZOAOEyQkZUVhCWn56qV2+95sJUwhaV+VEXizIEniupummMbvXHVCxpJvIalNyUjD5c7WK1vVEC4oIanPVa9avGxhKmtSe/piUtuqr3X2viCk7oX727RR3XHjshGSm5l4C5rrNj1p1zfc5zpYJI0ghKRvYx0A7hApTCFJNNpP1Yy80pEktE3Z1G78CEn1KslAJxa8yzVEc7dHGWNRUVEgQtJ7rmGqW7dzv4yUFbmFbg1Xu5IlQupeMuq298DOpqitD7sOAH0QFcqSdBDog6pvS9U59DibMz3ZFLVVN9HZHLd9t8gahpAkw6+c+eVU2wplAxKUMgPv8iBqSJKhW6txw62l6T1Rnyt7U5aWbyFJeNp37avbtr6IvK9hyIaMQhWS5KNhiTckB/fbUweCYsuOnwdy2l8HQXr77rDRW9QNUkjp7Wu/1Wb68lMVcjZCSm9D4Ra4lZVIBhoqn6oMsxGS6lLpbacXz9UX2V7ygZCQUV6K2lwYyYWRXBiJjBASQkJI0HNlhJAQEkJCRlkRj/d9u0+f+P6gom+/fseGjxxuuoqBVVUm0/pco19RUcb1AwcF1348Hs+4vqJyQKD7Hu/bN+P6AQG33/ck7XvPniIkZGQzoHLQ4d2f/MVEFYOrR5go2x86/PTI2i4uKY1030vL+kfa/rCRIxASMkJICAkhQTetGSEkhISQoNsUsBESQkJIcDLqwzqbhpAQEkKCTOhWtLrR2pQwGkNICAkhQSYWxJJTFsUQEkJCSAgpajRl0ajeI6ThvVZIieKSiIVUHmn7JaVlpri4+FhQUZQo+j90khuaj21/mA2SIZEhkSFBV0yIJSd3REgICSEhJISEkBASQgKXGqeG1K2F9Kv3/2yHd9kv3/nMtO38fShCenPvF3Z76ct/sfuPgQupszZeav+40+0JSkjp26D+0DZ07Pk8cCGpra76eduuTxFSD2R/LMS51bIVkj6QF15yhVn4yFOpZXp81jmjzaWTrjXjLrvafk2QQrrh1u+Z2+f8/QnLfnDPUnPNdbcFKqS1G183NV85+wQRnXHWueabjTeac0Y1mL+ZdW/gQlq6cqM5b8wlqeeb/vU39jZcNeVm++/6F3cFKiT1e2f9rO3KVu4IqTBYZsWK7iik1n/ebUbVX2AGDhqSEpK+lXWmzM2Y9GFd8lhrIELSN/PlV15nRpx+RkpIal9tShRBCunOBctt6Xpff9OMOeaeB1elRK1+ySZLy1ZI05rn2tLxCum6m29P9feja7faXwhBCEn7JfFq/9P7WZlxet8gpJ5DRSzEex5lI6TH17XZUtIH0hXSuhd2nnCAaLkOkiCEpGxAB53acIWkA0XP17TuCFRIEo/k5329hmnuMEl/KwYMDFRIdy96zGx59T9O6O/07EXSCkJI6vtlqzfbfZ3ez8qYtQ4h9VwmWtHSXWtIXiFJBBouuOtWPbs9KzH4GbJ5heRG0ELK9HplR2pbGVPQQzYNEzsTkjIjCVHDyiCHbOlCUuao4bK2CyFBtxCSd5igWkJvEpKGqhpGKivMpnaWbyG5QycNG0+1uJ2rkJQ1afisLyENG9W2MmaEBJEJSQeB6hruutl3LTF3zH2gVwhJMhrdcJGdIYR12j9dSOpr79lNSeFUz3blKiRlY3qskJSLS8qyGjIiJMi7kNwaglJ3fUAlJ9U5eoOQdLZPRX5tjxvpl0MELSR9Aejs5vOvvGuf5dN7EeaQzbtdDNkgEiGpgKnitjdTkCB0gGZz2tmvkNS2BJR+QGi7ghaSxOstMmu/vZHN9Uh+hKT/3/tloFi8/BlbEsrUsrkWyY+Q1Ped9bO2y9s3foSkOeA0bXb63G+ah07LERJC4kptrtQO5UptTQqqqbw1SaRmJ9ZMtVq+YMl8exrta6+/xp5Zt6tpzhESQkJICClvQtIMKK5sJKPxl4+zn2u5mzEtXrbQzLpzJkJCSAgJIQUrJG/ms/q5J8xlV1xqT5/dMOa81HKJSlkSQsovuiPkdCs2W7H3ZNcbFRcV/XtxouhAYFGcODZ8xJdMVzFo0GCTaX2uUVJcnHH9kCHVwbZfkrn9odVDA2vb6v+M6ysrBwa678WJRMb137xySug/rpWEqocNMVt2/Nx8sP8dUzW4ymzavsH89k/vmxtubTIXXPwNhJRHGmPJ36q1WTHNiloryjJmMKf1P/TXP75roopBAweYKNsfYX04o2y/ZuSwyNoutWQZ5b6PHDEiVCFJQqofrd/yVGqZZKQsSfUl1ZMQUv5ocWQ0NqshFUJCSL1ASM+3PWvL6JWdW0+QyhNPP5p6vHz1UtM8awZCygNNseSN+6uzrvEgJITUw4XkDs0av3OVmXP3LDuWrlxir6tv+LpdzP7php+YM+tq7SEdQsoN98ey9b6KzggJIfVwIamgLQF5Y92mJ1PXIN11/1zzw3vnZCUjhNQ186xo9X0WDCEhpF5SQ+JK7XDoiCV/vY+QEBJCQkiRc9g51Y+QEBJCQkiRcyinCxcjFlJV1EIa2nuFVFKcMFG/97p40n+UZ1w/eOhQhBQB+wpZSGRIZEhkSAgJISEkhISQEBJCQkgICSEFIqQ/vLPNvPZPa83nn3REJiRtw5/3/ip0If3l038zu9rW26HHYQvpi/96y7yxdZ35aNdLkQpp97ZWhATRC+nl5x43o88928z//gxzbt0Z5j9/3Ra6kP77vR2mtmakLcUwhSQZjDnva2bmbdfboX7wK0U/QtJ+19XW2H1/6YUN5scL50YiJMk4Hu+DkCB6Iekg/PCNLfbjpx9bbB+YYQpJQtRBqbNkYQvpxaf/0Uxrujr1vPmWb5vnVi4JTUjPr3nYrH7kPvuxslO/WVYuQlK7F19Qb6oqKxASRC8k7wdRYpKgwhTSjk1rzGd7XrMzhLCFlB7aBgky7BqSMrVHF99lGieND11IkvC2Daty2n6EhJDyJiTvB1HDNb8fzFxrSFELScOliePH+K4j5XJAL5w30x4u62+YQnph7Y/N7O9OzXn7gxZSaVn5scqBlYeDipKS4vfRTzcRkveCQglJB0ZvEpIEpINS2UkuRf1cz7JpO9T37+54PjQh6b1/4qH59lBdmbL++umDoIVUUlp+ED30ogxJQya3pjJ1yuReJaSmxkm2kHI5w+ZXSJKBd4ioDE1n3MISkjIyNyr6l9t//RT1ERJCypuQNFSZcuUEW0b6hvZzQBSqkFTAVmbgPTD9ZCh+haS+VkFfQye13TD6q77EmI/T/t15yIaQetl1SPqWfnD+LN8HYz6EpMKqToOHKSQJQcMUb/i9HsjvAa0+V9+vXX6/XdyO6jokSTGfQtK8b5pC27tME4Nqnrxs5qRDSFypzZXaXKmdk5De3PuFPWW2d+baex5cZc46Z7Q9SaZm8fVOIIqQEBJCQkiBCKlt5+/N6IaLbOl4hVRcUma27frUfrzuhZ1m3GVXI6QciFtRY0UVQkJICCmzkJT9aBpvr5AqBgw8YeiWzTx3COk4k2PJOzketcI4oYuolsVOMi1RlpQhJITUk35cmy4kZUx3zH3AvNT+sbnh1u8hJB/M9khojxXPxJLzpB1xlmnyxoo8tVXr/H8ICSH1SCFpuHbdzbfbQ7XH17UhJB+CcLOi5rR1NY48tG5NntrTZJCbERJC6qlCunPBcvvMmx6vena7XfRGSKfOPzjCaeti/URn/eE8tad2piMkhNRThXTTjDlmyg3fNQseetKcM6rBrH9xF0LKgmecodnsLtZXeYZzNTm2pRlqNVNtAiEhpJ4iJBWu1258/YRLAZat3myf/lcdieuQ8sv5joyO5iiSakdGjbluEEJCSD31jpEI6eS0OkJ6NYf/o945s9aSjw1CSAgJIfVOpnqGa+Oy/LcJp/7U6lw+0JSvjUJICAkh9T6aPGffFmX5b9s9IuvI90WWiaKiv1pSOhZgmMqK07oMzQ2WaX2ucbL2y8tKIm2/f3lZZG3369s30n0fMXwYQoqA6R4ZrfDx73XNUp1zGUGHc+nAWDIkMiQyJITk9zIAP5lRV6iQfTBfwzaEhJAQUs8n4Vyw6J5Rm57n/7/OkdJYhISQEBJCykSZM7SSjA5ZMSGgdhqd4VscISEkhISQusLNjA44mUyQdOQ6dENICAkh9VyaY8d/GjIqpPZaERJCQkgIqTP2eYrYJ4uaPNWS9iAkhISQEFJnmJCFVBEr8PshVUUtpKG9V0i6BizS975ywLH+pw04FFSUlpZ/QAUpmqyscIVkfSijbH/40MHHerGQjkWcHR/m8EVICAkhISRASAgJISEkhBSIkDRTqSZodOPDN7aELiS1qznR/LbtV0iaB8677wpNJx6mkLQN2ndN1Ol39txchKR54dT+7m2tCAmiF5ImCBx97tlm+o3fskMTFoYppAUtf2saJ42329Usrn4PDD9C0kSR7n4rykpL7NlswxKSZKRivKbUnnnb9WZa09WhCknvvWYrVt/rPVj9yH0ICaIV0rw7brO/IaMYsn3+SYctITcz2NW23vd02rkO2dQHTY2TQh2yqU2J0H0ej/cJVUhjzvua3ed6rFlz/WZ5CAkh5U1I+mZUSAw6OPxOZ+1HSMpQJAFNJT1x/Bg7U4iihqRhqzKVXKby9nMw/+GdbXZ2qkxFmeLUKZNDFZKyI+8wuaqywt4mhASRCUlDhR2b1thZyvzvz/CdJfgRkuomiaJ+qfqRpOR3yJiLkH503xzTcvstoRe1P9r1krn4gnq73yUjvRdhCskdLisr1eOK/uW+amgICSEFcpbtsz2v+U7b/QhJB4KGDe7zbRtWnTCECUtIyg5zKaj7FZIE5B0uX3phg68hq18h6UtIdaPmW75t970yJmWLCAkiE5KGDKofuDWchtFfDU1IGiLpQHZrSMqO/GYqfoWkIUo+TtnnQ0jKVpSthiUkyeg3r72QytYkJGpIEKmQNFzQUGnhvJn2B9LPAZHrWTa1r7+So9/T7n6FpMwgl2J2LkKSDGprRtrvgbIUZUh+Tv37FZL2XV9Aeu/1V88REkQ+ZNO1KKrn5FLUzeU6JB2YLz/3uK/hQq5C0j7nOlzL5Tok7bP6XgX+KK5DUmaU63uPkBBSIDUkrtTmSm2EBAgJISEkQEgICSEhJOiKgwgJISEk6C4cieVwo3+EhJAQEuSTt2PZT82NkBASQoJA0ASUKxESQkJI0B2odupINQgJISEk6A7MtuK9WHKSSoSEkBASRM4KR0o1CAkhISToLpnSQaemNO5Uzr4hJISEkCDomtIi5+ybLglYkOnFfePxz8rLSg9GFUVF/Y5G2X5xIhFp+5YUIms/Hu8T6b5X9C/7kMMVAAAAAAAAAAAAAAAAAAAAoMewgC6ACNDPnFroBkgnp/spAfik1oq9dAOkk9P9lAB8Ms2KzXQDpJPT/ZQAfNJmxXS6AdLJ6X5KAD4Ya8V+KxJ0BXSG7/spAfj4ApSMGukKyISv+ykBZEF9LDltF2fX4JQzpazupwRwEjQsm2hFqxUHrGiiSyDblNp7P6WDzrdab449zgHVdAqS1gGoYq3OIO3t5f12yArdhK3DinlWVHB4AeSGDqI6K5qdA0uSGdvFaxud+ojOIOm0tq61oS4HAIHR6GSN6UOPFkdGY+kiAAiTOkdKrnyanCFKNV0DAFFlShq+VcWSxdp6ugQAoqTDiVa6AgCiRoVuE0ue1gYAiJQ6R0j8BAIAIkeXBLTTDQAAAAAAAAAAAAAAAAAAAIWCfipSkyFG0EUAEBa6tYjJEPvoIgAIiwOOePbHOr8pWQddBABhDdcko8N0BQBEzWRHSGRBABA58xwhraArACBqNjpC0v2yJzpiesaKh2PcuhYAQmZP7PiZtM7OsOlGbdzUHwACJ+ERj+6nPd+KCbFkXUmZ0lFn3Wa6CgCCRhc8bo8l56ur7WT9VI+wxtFdABA1HY6QVtIVABA1DztC2k5XAEDULHKE1EZXAECQzI4lz65tzPAa93duD9NdABAk0xzZHIklf0KSTo2zTq/hmiQACJRE7Pj1Rx1pUtJ0SHtjnPYHgBDRdNkHPJmSxKTLAI56RMWFkQAQGtVWLPNkREccKbVYEad7AAAAAAAAAAAAAAAAAAAAAAAAAACg1/D/GL1hI5FHwV4AAAAASUVORK5CYII=)![3-axis_block.png](data:image/png;base64,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)"
      ]
    },
    {
      "cell_type": "markdown",
      "metadata": {
        "id": "ipPTwxaEkpED"
      },
      "source": [
        " can convert a tensor to a NumPy array either using np.array or the tensor.numpy method:\n",
        "\n"
      ]
    },
    {
      "cell_type": "code",
      "metadata": {
        "id": "WbkmQVjCkkvd",
        "outputId": "2aef6f07-7237-4cc9-b45f-9eb8b9828713",
        "colab": {
          "base_uri": "https://localhost:8080/",
          "height": 67
        }
      },
      "source": [
        "rank_2_tensor.numpy()"
      ],
      "execution_count": 8,
      "outputs": [
        {
          "output_type": "execute_result",
          "data": {
            "text/plain": [
              "array([[1, 2],\n",
              "       [3, 4],\n",
              "       [5, 6]], dtype=int32)"
            ]
          },
          "metadata": {
            "tags": []
          },
          "execution_count": 8
        }
      ]
    },
    {
      "cell_type": "code",
      "metadata": {
        "id": "frscAmvxfTKv",
        "outputId": "4ba3a2f3-1292-49f4-8ee9-29c940fea34e",
        "colab": {
          "base_uri": "https://localhost:8080/",
          "height": 67
        }
      },
      "source": [
        "np.array(rank_2_tensor)"
      ],
      "execution_count": 9,
      "outputs": [
        {
          "output_type": "execute_result",
          "data": {
            "text/plain": [
              "array([[1, 2],\n",
              "       [3, 4],\n",
              "       [5, 6]], dtype=int32)"
            ]
          },
          "metadata": {
            "tags": []
          },
          "execution_count": 9
        }
      ]
    },
    {
      "cell_type": "markdown",
      "metadata": {
        "id": "hhl3S-7fk2H9"
      },
      "source": [
        "Tensors often contain floats and ints, but have many other types, including:\n",
        "\n",
        "*   complex numbers\n",
        "*   strings\n",
        "\n",
        "The base tf.Tensor class requires tensors to be \"rectangular\"---that is, along each axis, every element is the same size. However, there are specialized types of tensors that can handle different shapes:\n",
        "\n",
        "\n",
        "*   Ragged tensors (see [RaggedTensor](#ragged_tesonrs) below)\n",
        "*   Sparse tensors (see [SparseTensor](#sparse_tensors) below)\n",
        "\n",
        "\n"
      ]
    },
    {
      "cell_type": "markdown",
      "metadata": {
        "id": "lgeoC_vmm-Oq"
      },
      "source": [
        "basic math on tensors, including addition, element-wise multiplication, and matrix multiplication."
      ]
    },
    {
      "cell_type": "code",
      "metadata": {
        "id": "-GrnEF4-kj3g",
        "outputId": "a7b30f62-2a9e-426a-fb51-1078716ac3bf",
        "colab": {
          "base_uri": "https://localhost:8080/",
          "height": 420
        }
      },
      "source": [
        "a = tf.constant([[1, 2],\n",
        "                 [3, 4]])\n",
        "b = tf.constant([[1, 1],\n",
        "                 [1, 1]]) # Could have also said `tf.ones([2,2])`\n",
        "\n",
        "print(tf.add(a, b), \"\\n\")\n",
        "print(tf.multiply(a, b), \"\\n\")\n",
        "print(tf.matmul(a, b), \"\\n\")\n",
        "\n",
        "#Shorthand of the same\n",
        "print(a + b, \"\\n\") # element-wise addition\n",
        "print(a * b, \"\\n\") # element-wise multiplication\n",
        "print(a @ b, \"\\n\") # matrix multiplication"
      ],
      "execution_count": 10,
      "outputs": [
        {
          "output_type": "stream",
          "text": [
            "tf.Tensor(\n",
            "[[2 3]\n",
            " [4 5]], shape=(2, 2), dtype=int32) \n",
            "\n",
            "tf.Tensor(\n",
            "[[1 2]\n",
            " [3 4]], shape=(2, 2), dtype=int32) \n",
            "\n",
            "tf.Tensor(\n",
            "[[3 3]\n",
            " [7 7]], shape=(2, 2), dtype=int32) \n",
            "\n",
            "tf.Tensor(\n",
            "[[2 3]\n",
            " [4 5]], shape=(2, 2), dtype=int32) \n",
            "\n",
            "tf.Tensor(\n",
            "[[1 2]\n",
            " [3 4]], shape=(2, 2), dtype=int32) \n",
            "\n",
            "tf.Tensor(\n",
            "[[3 3]\n",
            " [7 7]], shape=(2, 2), dtype=int32) \n",
            "\n"
          ],
          "name": "stdout"
        }
      ]
    },
    {
      "cell_type": "code",
      "metadata": {
        "id": "4MFEM29UnHYH",
        "outputId": "0277ff96-adc3-4f47-bcad-72aeb56e84b2",
        "colab": {
          "base_uri": "https://localhost:8080/",
          "height": 101
        }
      },
      "source": [
        "c = tf.constant([[4.0, 5.0], [10.0, 1.0]])\n",
        "\n",
        "# Find the largest value\n",
        "print(tf.reduce_max(c))\n",
        "# Find the index of the largest value\n",
        "print(tf.argmax(c))\n",
        "# Compute the softmax\n",
        "print(tf.nn.softmax(c))"
      ],
      "execution_count": 11,
      "outputs": [
        {
          "output_type": "stream",
          "text": [
            "tf.Tensor(10.0, shape=(), dtype=float32)\n",
            "tf.Tensor([1 0], shape=(2,), dtype=int64)\n",
            "tf.Tensor(\n",
            "[[2.6894143e-01 7.3105860e-01]\n",
            " [9.9987662e-01 1.2339458e-04]], shape=(2, 2), dtype=float32)\n"
          ],
          "name": "stdout"
        }
      ]
    },
    {
      "cell_type": "markdown",
      "metadata": {
        "id": "XW4LowXOqSg4"
      },
      "source": [
        "Tensors have shapes. Some vocabulary:\n",
        "\n",
        "\n",
        "* **Shape:** The length (number of elements) of each of the dimensions of a tensor.\n",
        "* **Rank**: Number of tensor dimensions. A scalar has rank 0, a vector has rank 1, a matrix is rank 2.\n",
        "\n",
        "* **Axis or Dimension**: bold textA particular dimension of a tensor.\n",
        "* **Size**: The total number of items in the tensor, the product shape vector\n",
        "\n",
        "Tensors and tf.TensorShape objects have convenient properties for accessing these:\n",
        "\n",
        "\n",
        "\n"
      ]
    },
    {
      "cell_type": "code",
      "metadata": {
        "id": "RwmeSZx0nMhC",
        "outputId": "651c6984-58a4-4e24-923a-8251ec74da73",
        "colab": {
          "base_uri": "https://localhost:8080/",
          "height": 554
        }
      },
      "source": [
        "rank_4_tensor = tf.zeros([3, 2, 4, 5])\n",
        "print(rank_4_tensor)"
      ],
      "execution_count": 12,
      "outputs": [
        {
          "output_type": "stream",
          "text": [
            "tf.Tensor(\n",
            "[[[[0. 0. 0. 0. 0.]\n",
            "   [0. 0. 0. 0. 0.]\n",
            "   [0. 0. 0. 0. 0.]\n",
            "   [0. 0. 0. 0. 0.]]\n",
            "\n",
            "  [[0. 0. 0. 0. 0.]\n",
            "   [0. 0. 0. 0. 0.]\n",
            "   [0. 0. 0. 0. 0.]\n",
            "   [0. 0. 0. 0. 0.]]]\n",
            "\n",
            "\n",
            " [[[0. 0. 0. 0. 0.]\n",
            "   [0. 0. 0. 0. 0.]\n",
            "   [0. 0. 0. 0. 0.]\n",
            "   [0. 0. 0. 0. 0.]]\n",
            "\n",
            "  [[0. 0. 0. 0. 0.]\n",
            "   [0. 0. 0. 0. 0.]\n",
            "   [0. 0. 0. 0. 0.]\n",
            "   [0. 0. 0. 0. 0.]]]\n",
            "\n",
            "\n",
            " [[[0. 0. 0. 0. 0.]\n",
            "   [0. 0. 0. 0. 0.]\n",
            "   [0. 0. 0. 0. 0.]\n",
            "   [0. 0. 0. 0. 0.]]\n",
            "\n",
            "  [[0. 0. 0. 0. 0.]\n",
            "   [0. 0. 0. 0. 0.]\n",
            "   [0. 0. 0. 0. 0.]\n",
            "   [0. 0. 0. 0. 0.]]]], shape=(3, 2, 4, 5), dtype=float32)\n"
          ],
          "name": "stdout"
        }
      ]
    },
    {
      "cell_type": "markdown",
      "metadata": {
        "id": "T57dBAQtux-2"
      },
      "source": [
        "![shape2.png](data:image/png;base64,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)![4-axis_block.png](data:image/png;base64,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)"
      ]
    },
    {
      "cell_type": "code",
      "metadata": {
        "id": "_nec1jAxrD_-",
        "outputId": "35b53c92-43a6-4ca2-ea9e-57aec6aaaa5c",
        "colab": {
          "base_uri": "https://localhost:8080/",
          "height": 118
        }
      },
      "source": [
        "print(\"Type of every element:\", rank_4_tensor.dtype)\n",
        "print(\"Number of dimensions:\", rank_4_tensor.ndim)\n",
        "print(\"Shape of tensor:\", rank_4_tensor.shape)\n",
        "print(\"Elements along axis 0 of tensor:\", rank_4_tensor.shape[0])\n",
        "print(\"Elements along the last axis of tensor:\", rank_4_tensor.shape[-1])\n",
        "print(\"Total number of elements (3*2*4*5): \", tf.size(rank_4_tensor).numpy())"
      ],
      "execution_count": 13,
      "outputs": [
        {
          "output_type": "stream",
          "text": [
            "Type of every element: <dtype: 'float32'>\n",
            "Number of dimensions: 4\n",
            "Shape of tensor: (3, 2, 4, 5)\n",
            "Elements along axis 0 of tensor: 3\n",
            "Elements along the last axis of tensor: 5\n",
            "Total number of elements (3*2*4*5):  120\n"
          ],
          "name": "stdout"
        }
      ]
    },
    {
      "cell_type": "markdown",
      "metadata": {
        "id": "EWQRTslCpp8G"
      },
      "source": [
        "# **Indexing**\n",
        "Single-axis indexing\n",
        "TensorFlow follows standard Python indexing rules, [similar to indexing a list or a string in Python](https://docs.python.org/3/tutorial/introduction.html#strings), and the basic rules for NumPy indexing.\n",
        "\n",
        "indexes start at 0\n",
        "negative indices count backwards from the end\n",
        "colons, :, are used for slices: start:stop:step\n"
      ]
    },
    {
      "cell_type": "code",
      "metadata": {
        "id": "SD2E8RVtpfSS",
        "outputId": "205df2a8-a3e2-4469-96df-b85c1dd6a838",
        "colab": {
          "base_uri": "https://localhost:8080/",
          "height": 218
        }
      },
      "source": [
        "rank_1_tensor = tf.constant([0, 1, 1, 2, 3, 5, 8, 13, 21, 34])\n",
        "print(rank_1_tensor.numpy())\n",
        "print(\"===========================================================================================================================\")\n",
        "print(\"First:\", rank_1_tensor[0].numpy())\n",
        "print(\"Second:\", rank_1_tensor[1].numpy())\n",
        "print(\"Last:\", rank_1_tensor[-1].numpy())\n",
        "print(\"===========================================================================================================================\")\n",
        "print(\"Everything:\", rank_1_tensor[:].numpy())\n",
        "print(\"Before 4th element:\", rank_1_tensor[:4].numpy())\n",
        "print(\"From 4th element to the end:\", rank_1_tensor[4:].numpy())\n",
        "print(\"From 2nd element, before 7:\", rank_1_tensor[2:7].numpy())\n",
        "print(\"Every other item:\", rank_1_tensor[::2].numpy())\n",
        "print(\"Reversed:\", rank_1_tensor[::-1].numpy())"
      ],
      "execution_count": 14,
      "outputs": [
        {
          "output_type": "stream",
          "text": [
            "[ 0  1  1  2  3  5  8 13 21 34]\n",
            "===========================================================================================================================\n",
            "First: 0\n",
            "Second: 1\n",
            "Last: 34\n",
            "===========================================================================================================================\n",
            "Everything: [ 0  1  1  2  3  5  8 13 21 34]\n",
            "Before 4th element: [0 1 1 2]\n",
            "From 4th element to the end: [ 3  5  8 13 21 34]\n",
            "From 2nd element, before 7: [1 2 3 5 8]\n",
            "Every other item: [ 0  1  3  8 21]\n",
            "Reversed: [34 21 13  8  5  3  2  1  1  0]\n"
          ],
          "name": "stdout"
        }
      ]
    },
    {
      "cell_type": "markdown",
      "metadata": {
        "id": "rIz5kaibqoB_"
      },
      "source": [
        "## **Multi-axis indexing**\n",
        "Higher rank tensors are indexed by passing multiple indices.\n",
        "\n",
        "The single-axis exact same rules as in the single-axis case apply to each axis independently."
      ]
    },
    {
      "cell_type": "code",
      "metadata": {
        "id": "OY1MM270qEZo",
        "outputId": "188ae523-329d-414a-d52f-15f0c7730bc4",
        "colab": {
          "base_uri": "https://localhost:8080/",
          "height": 235
        }
      },
      "source": [
        "print(rank_2_tensor.numpy())\n",
        "print(\"===========================================================================================================================\")\n",
        "# Pull out a single value from a 2-rank tensor\n",
        "print(rank_2_tensor[1, 1].numpy())\n",
        "# Get row and column tensors\n",
        "print(\"Second row:\", rank_2_tensor[1, :].numpy())\n",
        "print(\"Second column:\", rank_2_tensor[:, 1].numpy())\n",
        "print(\"Last row:\", rank_2_tensor[-1, :].numpy())\n",
        "print(\"First item in last column:\", rank_2_tensor[0, -1].numpy())\n",
        "print(\"Skip the first row:\")\n",
        "print(rank_2_tensor[1:, :].numpy(), \"\\n\")"
      ],
      "execution_count": 15,
      "outputs": [
        {
          "output_type": "stream",
          "text": [
            "[[1 2]\n",
            " [3 4]\n",
            " [5 6]]\n",
            "===========================================================================================================================\n",
            "4\n",
            "Second row: [3 4]\n",
            "Second column: [2 4 6]\n",
            "Last row: [5 6]\n",
            "First item in last column: 2\n",
            "Skip the first row:\n",
            "[[3 4]\n",
            " [5 6]] \n",
            "\n"
          ],
          "name": "stdout"
        }
      ]
    },
    {
      "cell_type": "code",
      "metadata": {
        "id": "cdP8ZLyiqvxl",
        "outputId": "70a732e6-db04-4eb4-ffe7-0d235fafbc48",
        "colab": {
          "base_uri": "https://localhost:8080/",
          "height": 84
        }
      },
      "source": [
        "print(rank_3_tensor[:, :, 4])"
      ],
      "execution_count": 16,
      "outputs": [
        {
          "output_type": "stream",
          "text": [
            "tf.Tensor(\n",
            "[[ 4  9]\n",
            " [14 19]\n",
            " [24 29]], shape=(3, 2), dtype=int32)\n"
          ],
          "name": "stdout"
        }
      ]
    },
    {
      "cell_type": "markdown",
      "metadata": {
        "id": "7twwVMITu_1l"
      },
      "source": [
        "![index1.png](data:image/png;base64,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)![index2.png](data:image/png;base64,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)"
      ]
    },
    {
      "cell_type": "markdown",
      "metadata": {
        "id": "SyGu9jCKsnjp"
      },
      "source": [
        "# **Manipulating Shapes**\n",
        "Reshaping a tensor is of great utility."
      ]
    },
    {
      "cell_type": "code",
      "metadata": {
        "id": "zyK8iFTVq_Sf",
        "outputId": "710bd361-ab70-4079-e4bd-7dfcf527f801",
        "colab": {
          "base_uri": "https://localhost:8080/",
          "height": 34
        }
      },
      "source": [
        "# Shape returns a `TensorShape` object that shows the size on each dimension\n",
        "x = tf.constant([[1], [2], [3]])\n",
        "print(x.shape)"
      ],
      "execution_count": 17,
      "outputs": [
        {
          "output_type": "stream",
          "text": [
            "(3, 1)\n"
          ],
          "name": "stdout"
        }
      ]
    },
    {
      "cell_type": "code",
      "metadata": {
        "id": "k6kUo1c5tADw",
        "outputId": "07bb20e9-8417-4b81-e820-3d0c34ea05b3",
        "colab": {
          "base_uri": "https://localhost:8080/",
          "height": 34
        }
      },
      "source": [
        "# You can convert this object into a Python list, too\n",
        "print(x.shape.as_list())"
      ],
      "execution_count": 18,
      "outputs": [
        {
          "output_type": "stream",
          "text": [
            "[3, 1]\n"
          ],
          "name": "stdout"
        }
      ]
    },
    {
      "cell_type": "code",
      "metadata": {
        "id": "i20732javSKG",
        "outputId": "9c139b57-fd1c-4723-ae63-1831a7fdc97e",
        "colab": {
          "base_uri": "https://localhost:8080/",
          "height": 134
        }
      },
      "source": [
        "# You can reshape a tensor to a new shape.\n",
        "# Note that you're passing in a list\n",
        "reshaped = tf.reshape(x, [1, 3])\n",
        "print(\"Original X is:\",x)\n",
        "print(\"Original X shape is:\",x.shape)\n",
        "print(\"Reshaped X is:\",reshaped)\n",
        "print(\"Reshaped X shape is:\",reshaped.shape)"
      ],
      "execution_count": 19,
      "outputs": [
        {
          "output_type": "stream",
          "text": [
            "Original X is: tf.Tensor(\n",
            "[[1]\n",
            " [2]\n",
            " [3]], shape=(3, 1), dtype=int32)\n",
            "Original X shape is: (3, 1)\n",
            "Reshaped X is: tf.Tensor([[1 2 3]], shape=(1, 3), dtype=int32)\n",
            "Reshaped X shape is: (1, 3)\n"
          ],
          "name": "stdout"
        }
      ]
    },
    {
      "cell_type": "code",
      "metadata": {
        "id": "_8GHLC-nvsId",
        "outputId": "79c01b98-6a67-4d0d-93c0-31c6a58512b4",
        "colab": {
          "base_uri": "https://localhost:8080/",
          "height": 252
        }
      },
      "source": [
        "print(rank_3_tensor,\"\\n\")\n",
        "# A `-1` passed in the `shape` argument says \"Whatever fits\".\n",
        "print(\"Flatening it \\n\",tf.reshape(rank_3_tensor, [-1]))"
      ],
      "execution_count": 20,
      "outputs": [
        {
          "output_type": "stream",
          "text": [
            "tf.Tensor(\n",
            "[[[ 0  1  2  3  4]\n",
            "  [ 5  6  7  8  9]]\n",
            "\n",
            " [[10 11 12 13 14]\n",
            "  [15 16 17 18 19]]\n",
            "\n",
            " [[20 21 22 23 24]\n",
            "  [25 26 27 28 29]]], shape=(3, 2, 5), dtype=int32) \n",
            "\n",
            "Flatening it \n",
            " tf.Tensor(\n",
            "[ 0  1  2  3  4  5  6  7  8  9 10 11 12 13 14 15 16 17 18 19 20 21 22 23\n",
            " 24 25 26 27 28 29], shape=(30,), dtype=int32)\n"
          ],
          "name": "stdout"
        }
      ]
    },
    {
      "cell_type": "markdown",
      "metadata": {
        "id": "eOnK59QrwidO"
      },
      "source": [
        "Typically the only reasonable uses of tf.reshape are to combine or split adjacent axes (or add/remove 1s).\n",
        "\n",
        "For this 3x2x5 tensor, reshaping to (3x2)x5 or 3x(2x5) are both reasonable things to do, as the slices do not mix:\n",
        "\n",
        "Reshaping will \"work\" for any new shape with the same total number of elements, but it will not do anything useful if you do not respect the order of the axes.\n",
        "\n",
        "Swapping axes in tf.reshape does not work, you need tf.transpose for that."
      ]
    },
    {
      "cell_type": "code",
      "metadata": {
        "id": "CDoF8pMvv0qm",
        "outputId": "f34f578c-926e-4afd-854b-c41956c073db",
        "colab": {
          "base_uri": "https://localhost:8080/",
          "height": 218
        }
      },
      "source": [
        "print(tf.reshape(rank_3_tensor, [3*2, 5]), \"\\n\")\n",
        "print(tf.reshape(rank_3_tensor, [3, -1]))"
      ],
      "execution_count": 21,
      "outputs": [
        {
          "output_type": "stream",
          "text": [
            "tf.Tensor(\n",
            "[[ 0  1  2  3  4]\n",
            " [ 5  6  7  8  9]\n",
            " [10 11 12 13 14]\n",
            " [15 16 17 18 19]\n",
            " [20 21 22 23 24]\n",
            " [25 26 27 28 29]], shape=(6, 5), dtype=int32) \n",
            "\n",
            "tf.Tensor(\n",
            "[[ 0  1  2  3  4  5  6  7  8  9]\n",
            " [10 11 12 13 14 15 16 17 18 19]\n",
            " [20 21 22 23 24 25 26 27 28 29]], shape=(3, 10), dtype=int32)\n"
          ],
          "name": "stdout"
        }
      ]
    },
    {
      "cell_type": "markdown",
      "metadata": {
        "id": "nw35E0cywlZk"
      },
      "source": [
        "![reshape-before.png](data:image/png;base64,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)![reshape-good1.png](data:image/png;base64,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)![reshape-good2.png](data:image/png;base64,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)![reshape-bad4.png](data:image/png;base64,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)![reshape-bad2.png](data:image/png;base64,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)![reshape-bad.png](data:image/png;base64,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)"
      ]
    },
    {
      "cell_type": "code",
      "metadata": {
        "id": "kQyxP_CawlBB",
        "outputId": "63bc8e26-49a3-4e63-d5ee-4c0882838a71",
        "colab": {
          "base_uri": "https://localhost:8080/",
          "height": 302
        }
      },
      "source": [
        "# Bad examples: don't do this\n",
        "\n",
        "# You can't reorder axes with reshape.\n",
        "print(tf.reshape(rank_3_tensor, [2, 3, 5]), \"\\n\") \n",
        "\n",
        "# This is a mess\n",
        "print(tf.reshape(rank_3_tensor, [5, 6]), \"\\n\")\n",
        "\n",
        "# This doesn't work at all\n",
        "try:\n",
        "  tf.reshape(rank_3_tensor, [7, -1])\n",
        "except Exception as e:\n",
        "  print(f\"{type(e).__name__}: {e}\")"
      ],
      "execution_count": 22,
      "outputs": [
        {
          "output_type": "stream",
          "text": [
            "tf.Tensor(\n",
            "[[[ 0  1  2  3  4]\n",
            "  [ 5  6  7  8  9]\n",
            "  [10 11 12 13 14]]\n",
            "\n",
            " [[15 16 17 18 19]\n",
            "  [20 21 22 23 24]\n",
            "  [25 26 27 28 29]]], shape=(2, 3, 5), dtype=int32) \n",
            "\n",
            "tf.Tensor(\n",
            "[[ 0  1  2  3  4  5]\n",
            " [ 6  7  8  9 10 11]\n",
            " [12 13 14 15 16 17]\n",
            " [18 19 20 21 22 23]\n",
            " [24 25 26 27 28 29]], shape=(5, 6), dtype=int32) \n",
            "\n",
            "InvalidArgumentError: Input to reshape is a tensor with 30 values, but the requested shape requires a multiple of 7 [Op:Reshape]\n"
          ],
          "name": "stdout"
        }
      ]
    },
    {
      "cell_type": "markdown",
      "metadata": {
        "id": "sf6IeqjnxWI3"
      },
      "source": [
        "You may run across not-fully-specified shapes. Either the shape contains a `None` (a dimension's length is unknown) or the shape is `None` (the rank of the tensor is unknown).\n",
        "\n",
        "Except for [tf.RaggedTensor](#ragged_tensors), such shapes will only occur in the context of TensorFlow's symbolic, graph-building  APIs:\n",
        "\n",
        "* [tf.function](function.ipynb) \n",
        "* The [keras functional API](keras/functional.ipynb).\n"
      ]
    },
    {
      "cell_type": "markdown",
      "metadata": {
        "id": "wT8Qv7lYxg1f"
      },
      "source": [
        "## More on `DTypes`\n",
        "\n",
        "To inspect a `tf.Tensor`'s data type use the `Tensor.dtype` property.\n",
        "\n",
        "When creating a `tf.Tensor` from a Python object you may optionally specify the datatype.\n",
        "\n",
        "If you don't, TensorFlow chooses a datatype that can represent your data. TensorFlow converts Python integers to `tf.int32` and Python floating point numbers to `tf.float32`. Otherwise TensorFlow uses the same rules NumPy uses when converting to arrays.\n",
        "\n",
        "You can cast from type to type."
      ]
    },
    {
      "cell_type": "code",
      "metadata": {
        "id": "VVl4DqnVwYAj",
        "outputId": "dba9eea1-83a6-4523-e2b5-8d35d6b09cdb",
        "colab": {
          "base_uri": "https://localhost:8080/",
          "height": 67
        }
      },
      "source": [
        "the_f64_tensor = tf.constant([2.2, 3.3, 4.4], dtype=tf.float64)\n",
        "print(the_f64_tensor)\n",
        "the_f16_tensor = tf.cast(the_f64_tensor, dtype=tf.float16)\n",
        "print(the_f16_tensor)\n",
        "# Now, cast to an uint8 and lose the decimal precision\n",
        "the_u8_tensor = tf.cast(the_f16_tensor, dtype=tf.uint8)\n",
        "print(the_u8_tensor)"
      ],
      "execution_count": 23,
      "outputs": [
        {
          "output_type": "stream",
          "text": [
            "tf.Tensor([2.2 3.3 4.4], shape=(3,), dtype=float64)\n",
            "tf.Tensor([2.2 3.3 4.4], shape=(3,), dtype=float16)\n",
            "tf.Tensor([2 3 4], shape=(3,), dtype=uint8)\n"
          ],
          "name": "stdout"
        }
      ]
    },
    {
      "cell_type": "markdown",
      "metadata": {
        "id": "__qvh8VbyFRT"
      },
      "source": [
        "## Broadcasting\n",
        "\n",
        "Broadcasting is a concept borrowed from the [equivalent feature in NumPy](https://numpy.org/doc/stable/user/basics.html).  In short, under certain conditions, smaller tensors are \"stretched\" automatically to fit larger tensors when running combined operations on them.\n",
        "\n",
        "The simplest and most common case is when you attempt to multiply or add a tensor to a scalar.  In that case, the scalar is broadcast to be the same shape as the other argument. "
      ]
    },
    {
      "cell_type": "code",
      "metadata": {
        "id": "RYyQn8XSxtcQ",
        "outputId": "e9d158cd-6285-4a90-94db-f68000dc8355",
        "colab": {
          "base_uri": "https://localhost:8080/",
          "height": 67
        }
      },
      "source": [
        "x = tf.constant([1, 2, 3])\n",
        "\n",
        "y = tf.constant(2)\n",
        "z = tf.constant([2, 2, 2])\n",
        "# All of these are the same computation\n",
        "print(tf.multiply(x, 2))\n",
        "print(x * y)\n",
        "print(x * z)"
      ],
      "execution_count": 24,
      "outputs": [
        {
          "output_type": "stream",
          "text": [
            "tf.Tensor([2 4 6], shape=(3,), dtype=int32)\n",
            "tf.Tensor([2 4 6], shape=(3,), dtype=int32)\n",
            "tf.Tensor([2 4 6], shape=(3,), dtype=int32)\n"
          ],
          "name": "stdout"
        }
      ]
    },
    {
      "cell_type": "markdown",
      "metadata": {
        "id": "pX2vAkgpdOLR"
      },
      "source": [
        "Likewise, 1-sized dimensions can be stretched out to match the other arguments. Both arguments can be stretched in the same computation.\n",
        "\n",
        "In this case a 3x1 matrix is element-wise multiplied by a 1x4 matrix to produce a 3x4 matrix. Note how the leading 1 is optional: The shape of y is [4]."
      ]
    },
    {
      "cell_type": "code",
      "metadata": {
        "id": "6m6ZkrF4c-T7",
        "outputId": "3dc820e4-1f36-4eda-8414-6351207ac55e",
        "colab": {
          "base_uri": "https://localhost:8080/",
          "height": 202
        }
      },
      "source": [
        "# These are the same computations\n",
        "x = tf.reshape(x,[3,1])\n",
        "y = tf.range(1, 5)\n",
        "print(x, \"\\n\")\n",
        "print(y, \"\\n\")\n",
        "print(tf.multiply(x, y))"
      ],
      "execution_count": 25,
      "outputs": [
        {
          "output_type": "stream",
          "text": [
            "tf.Tensor(\n",
            "[[1]\n",
            " [2]\n",
            " [3]], shape=(3, 1), dtype=int32) \n",
            "\n",
            "tf.Tensor([1 2 3 4], shape=(4,), dtype=int32) \n",
            "\n",
            "tf.Tensor(\n",
            "[[ 1  2  3  4]\n",
            " [ 2  4  6  8]\n",
            " [ 3  6  9 12]], shape=(3, 4), dtype=int32)\n"
          ],
          "name": "stdout"
        }
      ]
    },
    {
      "cell_type": "markdown",
      "metadata": {
        "id": "4mFR9tMGdgji"
      },
      "source": [
        "Same operation without broadcasting\n"
      ]
    },
    {
      "cell_type": "code",
      "metadata": {
        "id": "SIucg2WwdYis",
        "outputId": "9bd3108e-b3a3-462f-9bdb-c58c937e5644",
        "colab": {
          "base_uri": "https://localhost:8080/",
          "height": 84
        }
      },
      "source": [
        "x_stretch = tf.constant([[1, 1, 1, 1],\n",
        "                         [2, 2, 2, 2],\n",
        "                         [3, 3, 3, 3]])\n",
        "\n",
        "y_stretch = tf.constant([[1, 2, 3, 4],\n",
        "                         [1, 2, 3, 4],\n",
        "                         [1, 2, 3, 4]])\n",
        "\n",
        "print(x_stretch * y_stretch)  # Again, operator overloading"
      ],
      "execution_count": 26,
      "outputs": [
        {
          "output_type": "stream",
          "text": [
            "tf.Tensor(\n",
            "[[ 1  2  3  4]\n",
            " [ 2  4  6  8]\n",
            " [ 3  6  9 12]], shape=(3, 4), dtype=int32)\n"
          ],
          "name": "stdout"
        }
      ]
    },
    {
      "cell_type": "code",
      "metadata": {
        "id": "wSnayxWLdfpR",
        "outputId": "40a69dc5-ed65-4ecd-97c1-1656d1c5e986",
        "colab": {
          "base_uri": "https://localhost:8080/",
          "height": 84
        }
      },
      "source": [
        "print(tf.broadcast_to(tf.constant([1, 2, 3]), [3, 3]))"
      ],
      "execution_count": 27,
      "outputs": [
        {
          "output_type": "stream",
          "text": [
            "tf.Tensor(\n",
            "[[1 2 3]\n",
            " [1 2 3]\n",
            " [1 2 3]], shape=(3, 3), dtype=int32)\n"
          ],
          "name": "stdout"
        }
      ]
    },
    {
      "cell_type": "markdown",
      "metadata": {
        "id": "JBGnv_Zyf7jE"
      },
      "source": [
        "## tf.convert_to_tensor\n",
        "\n",
        "Most ops, like `tf.matmul` and `tf.reshape` take arguments of class `tf.Tensor`.  However, you'll notice in the above case, Python objects shaped like tensors are accepted.\n",
        "\n",
        "Most, but not all, ops call `convert_to_tensor` on non-tensor arguments.  There is a registry of conversions, and most object classes like NumPy's `ndarray`, `TensorShape`, Python lists, and `tf.Variable` will all convert automatically.\n"
      ]
    },
    {
      "cell_type": "markdown",
      "metadata": {
        "id": "cz1CBfLSDAFP"
      },
      "source": [
        "## Ragged Tensors\n",
        "\n",
        "A tensor with variable numbers of elements along some axis is called \"ragged\". Use `tf.ragged.RaggedTensor` for ragged data.\n",
        "\n",
        "For example, This cannot be represented as a regular tensor:![ragged.png](data:image/png;base64,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)"
      ]
    },
    {
      "cell_type": "code",
      "metadata": {
        "id": "F7JSRy2ldtXb"
      },
      "source": [
        "ragged_list = [\n",
        "    [0, 1, 2, 3],\n",
        "    [4, 5],\n",
        "    [6, 7, 8],\n",
        "    [9]]"
      ],
      "execution_count": 28,
      "outputs": []
    },
    {
      "cell_type": "code",
      "metadata": {
        "id": "33dL22B2DUtR",
        "outputId": "6e691797-45b6-4872-d8dd-7f81919a0be6",
        "colab": {
          "base_uri": "https://localhost:8080/",
          "height": 34
        }
      },
      "source": [
        "try:\n",
        "  tensor = tf.constant(ragged_list)\n",
        "except Exception as e:\n",
        "  print(f\"{type(e).__name__}: {e}\")"
      ],
      "execution_count": 29,
      "outputs": [
        {
          "output_type": "stream",
          "text": [
            "ValueError: Can't convert non-rectangular Python sequence to Tensor.\n"
          ],
          "name": "stdout"
        }
      ]
    },
    {
      "cell_type": "code",
      "metadata": {
        "id": "Bb6ChnB2DXIg",
        "outputId": "16c572a1-cfa5-45d1-8cd5-faedababb649",
        "colab": {
          "base_uri": "https://localhost:8080/",
          "height": 34
        }
      },
      "source": [
        "ragged_tensor = tf.ragged.constant(ragged_list)\n",
        "print(ragged_tensor)"
      ],
      "execution_count": 30,
      "outputs": [
        {
          "output_type": "stream",
          "text": [
            "<tf.RaggedTensor [[0, 1, 2, 3], [4, 5], [6, 7, 8], [9]]>\n"
          ],
          "name": "stdout"
        }
      ]
    },
    {
      "cell_type": "code",
      "metadata": {
        "id": "YGL42OnHDgkm",
        "outputId": "8db8568e-b544-4ca3-b3f7-b368db6cd63c",
        "colab": {
          "base_uri": "https://localhost:8080/",
          "height": 34
        }
      },
      "source": [
        "print(ragged_tensor.shape)"
      ],
      "execution_count": 31,
      "outputs": [
        {
          "output_type": "stream",
          "text": [
            "(4, None)\n"
          ],
          "name": "stdout"
        }
      ]
    },
    {
      "cell_type": "markdown",
      "metadata": {
        "id": "rXfW06mpDna1"
      },
      "source": [
        "## String tensors\n",
        "\n",
        "`tf.string` is a `dtype`, which is to say you can represent data as strings (variable-length byte arrays) in tensors.\n",
        "\n",
        "The strings are atomic and cannot be indexed the way Python strings are. The length of the string is not one of the dimensions of the tensor. See `tf.strings` for functions to manipulate them."
      ]
    },
    {
      "cell_type": "code",
      "metadata": {
        "id": "lJ-XYVvkDkDq",
        "outputId": "35a295fc-ad00-40b6-9376-26d72d65d843",
        "colab": {
          "base_uri": "https://localhost:8080/",
          "height": 34
        }
      },
      "source": [
        "# Tensors can be strings, too here is a scalar string.\n",
        "scalar_string_tensor = tf.constant(\"Gray wolf\")\n",
        "print(scalar_string_tensor)"
      ],
      "execution_count": 32,
      "outputs": [
        {
          "output_type": "stream",
          "text": [
            "tf.Tensor(b'Gray wolf', shape=(), dtype=string)\n"
          ],
          "name": "stdout"
        }
      ]
    },
    {
      "cell_type": "markdown",
      "metadata": {
        "id": "hBQULsc1D17B"
      },
      "source": [
        "Vector of Strings ![strings.png](data:image/png;base64,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)"
      ]
    },
    {
      "cell_type": "code",
      "metadata": {
        "id": "VIH-HPu4DqXB",
        "outputId": "4077cc73-2a7d-49c5-ebe4-d28f2b361342",
        "colab": {
          "base_uri": "https://localhost:8080/",
          "height": 34
        }
      },
      "source": [
        "# If you have three string tensors of different lengths, this is OK.\n",
        "tensor_of_strings = tf.constant([\"Gray wolf\",\n",
        "                                 \"Quick brown fox\",\n",
        "                                 \"Lazy dog\"])\n",
        "# Note that the shape is (3,). The string length is not included.\n",
        "print(tensor_of_strings)"
      ],
      "execution_count": 33,
      "outputs": [
        {
          "output_type": "stream",
          "text": [
            "tf.Tensor([b'Gray wolf' b'Quick brown fox' b'Lazy dog'], shape=(3,), dtype=string)\n"
          ],
          "name": "stdout"
        }
      ]
    },
    {
      "cell_type": "markdown",
      "metadata": {
        "id": "36kzA17OEQk1"
      },
      "source": [
        "In the above printout the `b` prefix indicates that `tf.string` dtype is not a unicode string, but a byte-string. See the [Unicode Tutorial](https://www.tensorflow.org/tutorials/load_data/unicode) for more about working with unicode text in TensorFlow."
      ]
    },
    {
      "cell_type": "code",
      "metadata": {
        "id": "ImTY0guGEHyU",
        "outputId": "dead0477-ffe8-4899-c5a2-ddadcc064e38",
        "colab": {
          "base_uri": "https://localhost:8080/",
          "height": 34
        }
      },
      "source": [
        "tf.constant(\"🥳👍\")"
      ],
      "execution_count": 34,
      "outputs": [
        {
          "output_type": "execute_result",
          "data": {
            "text/plain": [
              "<tf.Tensor: shape=(), dtype=string, numpy=b'\\xf0\\x9f\\xa5\\xb3\\xf0\\x9f\\x91\\x8d'>"
            ]
          },
          "metadata": {
            "tags": []
          },
          "execution_count": 34
        }
      ]
    },
    {
      "cell_type": "code",
      "metadata": {
        "id": "-WDDBERhEWux",
        "outputId": "1c3b3d86-460f-4a8e-87d8-541039d9eb6d",
        "colab": {
          "base_uri": "https://localhost:8080/",
          "height": 34
        }
      },
      "source": [
        "# You can use split to split a string into a set of tensors\n",
        "print(tf.strings.split(scalar_string_tensor, sep=\" \"))"
      ],
      "execution_count": 35,
      "outputs": [
        {
          "output_type": "stream",
          "text": [
            "tf.Tensor([b'Gray' b'wolf'], shape=(2,), dtype=string)\n"
          ],
          "name": "stdout"
        }
      ]
    },
    {
      "cell_type": "code",
      "metadata": {
        "id": "PlPsP6x-EaT8",
        "outputId": "25e14f38-9d7f-4297-fe8f-9122aa48c97e",
        "colab": {
          "base_uri": "https://localhost:8080/",
          "height": 34
        }
      },
      "source": [
        "# ...but it turns into a `RaggedTensor` if you split up a tensor of strings,\n",
        "# as each string might be split into a different number of parts.\n",
        "print(tf.strings.split(tensor_of_strings))"
      ],
      "execution_count": 36,
      "outputs": [
        {
          "output_type": "stream",
          "text": [
            "<tf.RaggedTensor [[b'Gray', b'wolf'], [b'Quick', b'brown', b'fox'], [b'Lazy', b'dog']]>\n"
          ],
          "name": "stdout"
        }
      ]
    },
    {
      "cell_type": "markdown",
      "metadata": {
        "id": "2gGVCRDgEliH"
      },
      "source": [
        "![string-split.png](data:image/png;base64,iVBORw0KGgoAAAANSUhEUgAAATsAAACgCAYAAABzCsvzAAAVpklEQVR42u2dD7BcVX3H30xC8vI/QAoRQokSJZS0ZAiFiPyHghg1LREQgQk2pbFQTBGYKKlEnFBQKCAw4AT5UzJCgSLUUKhBiJCJmAITbGij0jZ1UhunoRNncEZnUG7v53p/ryeXfS95u/s2u/s+35nfvN17z7177m/v+Zzf75yz9/X0KKWUUkoppZRSSimllFJKKaWUUkopperQi7lt0eq2/9UHddujNj/ViGbktjy3Z8obaslAhfeeNHHHr37ySqbVZ9MPOkA/1GkTxo/bbnNV9WhKbg/lti2363M7I7fpuY0XdsJO2Klu0dTcNud2Y269gzlQ2Ak7Yac6RSNz25jbLfUcLOyEnbBTnaKFua0roSfshJ2wU12rdSXweoSdsBN2qpv1Zm6zhJ2wE3aq27WjkYOFnbATdqpTtEXYCTthp4SdsBN2wk4Ju+bB7opPXZj91dWXZc8/fk+28JyPZK89/9hO+//z5aeyZUv+JDv1+GOyw2ceUvzl/X9tXNOShhX1o17Uj3q2I+xS/1FfbCj88dNNz77je7r31muzY4783cL4bthPufCdsFPCrmz0J75/TtFg8tNmz/7dyr59j6z8ctY7elQ2db99syUXfyK75orF2eILP5ZN2WdyNnnihGzDU6taEoFRP+pF/ahnO8Iu9R/1xYbCH//2vdU7fU90RiNHjig6ofh+2E+58J2wU8Iut5kzpmfnzj8j++YDXykayfrV9xfbv//sI0UjWjDvtOzn//HiTse8sfk72RGHH1rYUMNuzhG/k8077fgCrNSPerYj7OgYqN8rax4swIO1AnbRCUSkd/O1VxbvieziuxV2StjlNv+DJxWpDhECjeRnP1pXbAdyRHDxvmpA5wNHzy4aFe+/ce9fF8Z20qiVN32+r+yDd12fLfrEH/Zt/+WP/6nYTipMNAJY03PHdv5yHFEl9YiIpR1hB2yoHx3DpZ88tzCui+tIfQic2JZ2IGseviu780tX970HmFwz/iItTa85hR1GGd5TnuiSc/G9pd+tsFPCLjciuR+sf6IPSrF9/LixRUq0u+eh0RHpcRx/41igyTYa/9I/v6hIiYFkAA/oALT0XF++5vKiHGVo+AHDtH7tOEFBdBdRMfUOMD319Tv6yhClVocL8Ef467brlhb7ARVQZBwO/8VYZQo7OpczTj62eI+fARtgjeiXaDi+W2GnnI0dIFWi4Q0GdhyTjuMBpzQ1jjEmGm+cmwbN+F8a6TARQqTSDbOxgB/Q8xp4c+1EXlx3DAkwXEBERiTLGCmdQhzPMaTEM6YfNGAa26yIV9ipYQm7NLUKMLE9tZgwAHbT3rX/TuXPX/ChAlycLzUaLxFJ+llEKZHCxdhXN8CONJSxswATYAdmRHNse+D2FQUAgVp0DtWZ7hhPTaNFYaeEXROMKItog6ULVQjGWFE0zBR21Zk/3lfhGBaRSpQjbeM1EV0rJj5aBbuYWMF3dBZcJ2kt/iXlpEPA0s6keg7S4gCcsFPCrslG9AUQYmytv+hvINgRvUUEs6tlG6RvTHYwVseMYjctKibiJUpm/I30nc6E6yViI9IjuqMcZdJJonQCI4YIhJ0Sdk22aGAMnNcCXiy1GAh2X1x6SdGo07SMcwHBGLPCaNwxIULEEzO83QI7rotr5tpiiQi+An74J+AWKXx1IoZol3JAUtgpYTcERoRFAyXlZOwJsDHjRyOlgbEGLhpZLdhFpEY5ohgiE8pxzuovIdhOg450tptgR9qKv/BF2hGwrboej+sH/CzRwV+Uw1/8dYJCCbshNKINxpRIxWhUpF1EKaReacQHBGvNoNIIY80eMCOtJWqslotGGxMV3QQ7IrL4mV3qVzqHWK6SRr6Uo4PBH4xfphNFRMkcFxM4cZ5W/XxP2KmuhV2rjEgGIPY3RuiDAHwQgBJ2HW3MNJLmRarsU0+EnRJ2XQk7FtxGutbfT9OEnbBTwq7jG07MMPo8O2GnhN2wGLMTdsJOCTthJ+yEnRJ2mrATdkrYacJO2ClhJ+z0g7BTHQC7vUaN+tWoUaMzrT4bPbpXP9Rpe+016tcjRozcqg3exo6b8KSwG6QmTtp7x4Yf/TLT6rN3HXiwfqjTJu8z5W39UJ/tN/XAt4SdsBN2wk7YCTthJ+yEnbATdpqwE3bCTthpwk7YCTthJ+w0YSfshJ2w04RdN8Nucm5Lc3s6t7W5rc5tSW7jm/w544WdsBN2wm5PaWZuW3v+/9/9bU9eby33N0szctss7ISdsBN2rdbIEj6A7fHcppXbp5Tv2f56Wa4ZOj+3R4WdsBN2wq7VOrcEGqllbw0Qbin3z2vS55EeL9xTsDvymBOyS69ckX3lntXF66fW/7hv33c3/zy75ktfy46Yc2w2Zuz4wmbNPjq7avmtxb7BftYfzDunON/ulI369Lf/4xddVpyP+lKO8q2EHZ9NHVb9/Ybi8/k72Gvc01b97uMa2gl2ad3C57Fv2XVfzfb9rf2zUaN7s2tvuq/hz8IXcc+Fb7oddoty25Tb9f3sf6iE3fImfNbcfqDaMthxLR8+68KigfL6ibU/7APdcSd/KBsxYmR25vzziv0YZdnGzfCdV98Y1GcBzc8su2m3ykZ9BmqoQIr6Uq4RwNQDO46hDnetWlN8Pn9j+8WX/WVHwK763cc1tBPs0rqFz9m+btPPCshxj1Jm9Qv/3vBn4Yu458I3w302dlMJu4UNnmdqOf7XcITYCOwmTJycLVx8Vbbi1lXFFxyRHduAWq2IiRuPfWdf8GdDfpP3t/+UD56VHTZrTlFfylH/VsLufYcdUUQa9zzyQvH5939jfcfBjqiISOmG2x8qruGxZ/6l7WAXdaNTA3TAje3RyTUS0VeN743spbiuvffNzl90+bCF3chydhYnbytna+vV7DKiW9KMijWaxpICPPjkKwX4otfkSx8IZjQSgPetDT/pSwGqYf/Kh57bqXfk5rnxzkf73n/75Z9mf3zJ54o6YOyPaLEKO7ZTHyBM1MmNGefmxqwnBWsEdkS7XC/XQD2j3pyL66Ce0ThvXvl433H4i3oDyRNP+2ixPyBDwwXitY7jnGmqxudxnhTy1IVtD//j9ws/Uz8+J85JnVOg8Rmf/eIdRflo5O0Gu7RufP/4gfuKa8Lv7z/h9J2gRGrLtrje9L5g+GX+2Z/cKSMBpviMThOf0YGy/ehjTxny4Yh2hN2pud2djNVtKdPPepaYcK5VZUS3oFkVbAR23Ew0EgBCw2DbHX/zdHEjpY2tatxwlOFmCWhWx9iqwEqjHoA6/T2HFtu4CWl0RBpxjvRYbk5SYMpHY+XmjJSbqIrztRJ2fHZEweG3OBedQDSWs867uLiOAFVEJNMOPqSvUQJArp/tNEaOo2FznuhAaJCMl6ZjWZRPfc5nkNrhC/ycN6bCp5+6/AvZpz97Q/Gaz43x1vjuq9fQbhMUUbfwOQCjs41UM4ZGgBtg5NrxIZ1Jmp0EOKMT517ifYwD4ouAY+qb4QS7+5JlJ1mZxg4WVGuT49eVM7s97QC7gVLIgdKaaLTRGAcLOxo3N2IAK9JjojSizDiWhhmgSydP2nU2lnMBpXQChwYJeFK/0TDTKI2ouhpJ4yt8FFEHx0UkTQMFXAG3aOw08DiW8inEIiWkIXf6bGz4McYZYzghOt8wOhTunXgfnQrHEcVh9Uy2dSvsZpQTCNPKNPatElqLB7lAeVY5+bGuBObcdofdQI0ibjYihnpgRxqSRir91SHSlRgT6wTYVSdhiJDDn+G3NCWNKLl6jXQ2MR4JEAFbpK2HvO/wIiIGhjRcGizAjNQLP8ewRNqZ1DsR0e6wo9PFP1Vw4ed0LDrSd8oS1dUzTjmcJiiuKGG3o4FfU8wrFyovaEfYReNLx9dqTVKkZQYLu1rlax0bqW4MTHcC7KpjPSlkqo0Ui8mhNMpNZ0zjfPggxpeiAdNh4FO+s3QMlW3V6+pm2NW63vSaU9/GEABDDf6CYmD1JtHdSQ3+SmN7MyK8ZsOO3pHxnUiJ0gglekIaHb1jDPbWghdjRf3BjnPXiuxo+DTigB2v4+YcqgHjZsOOiKtWZMfyiFqw6y+yIxJMUzMG30mH8UOkZkzw4MeYEElT4OEEu92N7LhfYwkLnQM+Hc6wm1VGXNMGKBM/JWs0MptXprQj2wl26dhGpKkYg+ex7o596RILlmGwHKM6XtIf7Ej1uDnT9VE0dsozQVKNCoEraVkz1lMNNeyqEQP+CjjVgl1/Y3Z0Fvg7rjkiOuDGxEe6DIjxuzR9Hm6w290xO+5hxoWJgJnF3ZOpbDvA7pkSZMsGWB8Xkw2zm/B56xqF5lD9XIybIRoXEQRGo2IbN0k6phdwAnr0lqRc3GS7mo3lfIAV43WAogo7bk5u0qFIZ5sNO3wTv6SIDiJmtmvBLu1cgBjH4XuOw+dpOb6LdPgglglVU7XhBruBZmPD9zFBE0CMe7A6oTScYHfFLtbS3Z38PrZZv9hY1a6/jeVmIqoiasO4oUgrI42lkaYNlvSAGS6iEmZVd7XOjm3cbBjHxMxidY1ejLXEOrJ2hR3XQz2ZLcVfwDltkLHOrtY10Cgpz+RDdZ1dmuZzfLosAr9VF8Di5+o2PrPZ/ttTsKvlR4DFEALRHD7kXo3ZaPbhj+qCb7IJzsP9Nhxh11uCDKC9VI7LTc/tqOSnYm81OF5XHbvb1IkPAmBNUiOLeX0QgA8C8EEA7bHcZGNlfV36uKd5TfysyT0+z07YCTtht4d/HsYTUG4vFxbfXaack4fgs4SdsBN2wm5YSNgJO2En7ISdsBN2wk7YCTthJ+yEnbATdpqwE3bCTthpwk7YCTthJ+w0YSfs2g52o3t73xozZszbWn02YeKETD/UZ2PHjXt7yn5Tf6EN3g4+5NA3hN0gNWnyxB0//J9NmVafHXjQAfqhThs3ftz2HqWEnbATdkoJO2En7JSwE3bCTtgpYSfshJ2wU8JOE3bCTgk7TdgJOyXshJ0m7JSwE3aasFPCTtgJO6U6CnbLViwtGv7zr347m3PMkdm8Pzqz2H7bvTf3bd9Tjerhp79e1IG6UC/q186wq/py0SUX7fLamunf+M44d7P9JexUx8PusqsuKf7PxnOvfKtoKEd/4PeL7TfcvqJv+56C3arH7y3/Dd6Kol7NBNRQwK7qy7M+Pn+X19ZM/8Z3xrmb7S9hpzoedtFANm7ZkB02a2Z23sJz2gZ2T77weFEHIhXqRf3aGXbX3HB1NmLkiOxf//vV7L0zZ2QXLDqvpbCLcz69/pvZaWeekh1/ynHCTgm7sCeee7Sv4ROJkIrtLuxo1Fd+/vICQqNHj8723mfv7OTTTywaW5ybCKOWcf7rbrm2aJCcJz3vJZ9ZnP3ppxcV24HHS69/twDJRz/24baGHVAGcrwmjbz2xmt2SjHxE9dz7Alzi31V/96y8sZs1uzDizIHv/u3Cz+kvuE1qfHUA/bPJk6aUPiDY2Lo4Xs/eKH4HiLKXLj4QmGnhF3agNa/trZ4DVSI8HYXdjSosePGFtAiqogxo9lzfq/Yz3k5T2rs45jH1vxtYXzG/Y99re+cfH6ck/cxpsV26tfOsKv68p+3vly8vvOB24rrBOD4aekXriyglPqXTiYtw/XTeZzxkdP7zk9nhG/wI2XifXotQ+UvYae6djZ2d2BHw4xIMB2k57ha5W+684ZiH40/thEJpREbZQBBQLcbZmOZKCDirUav4V8gSaRWTXvpPCKNX7PhH4rX0QmEEQm2emZZ2KlhB7uIZkhXaZh/8bnLisZXC3ZEIqRnpL3pdqIcopOIgkjxmpmutgPsuO5qp0A0G/6Nscl7Hv7qO3zLdnxEusprUtUqNIWdEnZDDDsiNFItGjMRGmNHgKoKO8bwANrZFyx4xzlI+zieiI4UrJrWdgPsYkY53YZfw78xscDfWscyXBDfR3V8k33CTgm7IYQdaWYMkkdUFpFaCjtgFktaqg01jBSP2UOiHwbfu21RMX4iAku3EcWFfwN8RMdpGaI4tjOZEeWJAtMyzFILOyXshhB20UDTGUdglqaxAJH373nvuwccLCdCZJyOslUodAPsiGiZXU3HIYmCU//iI1L4tEMgaiPqpQwdypT9phSdS5QhYgakwk4JuybAjkiLxpRaLHVgKQUNkLE6jFQ2YEdEx9IHXjNAX116ki6LoPGSDlOWgfhugx3pOX7CP8CcSJb3KeyYhCDVZ7YayAUM07E+ojs6BcDIOQCdExRK2DVh/R2NrpbF+BNpFo2XJRDMJDLmRARHGaIOIrZdnSONdIbq503t8NvY1FdcP+kof9OIF9Cn/gSAtSJqAMhED+egbDMXWws7Nexg10qLFK26rMIHAew8kUOaSyeUbicSjEhb2Kl21fbhDjvGsFirR1pLupxOdAi7dxppMGN/jJMSGbPgmDG9WhGgsFPtpF/kNnK4R3ZEJqSvrW6wnQg7UmHGOklbGbcDdq32m7BT9eil3I4zjfV5dj7PTnW7lud2u7ATdsJOdbum5rYtt+nCTtgJO9XtujS3jbmNF3bCTtipbtctJfCmCzthJ+zUcIjwtpVjeExa9Ao7YSfsVDeP4S0vZ2lZlrJsoMJjxvS+sc+++7yp1WeTJk/6tX6ozyZMnPCazVUppZRSSimllFJKKaWUUkoppZRSSinVAVqmC5TqKPGz0CW6YfBq6Hl4SqmWa0Zum3XD4NXQ8/CUUi3X+bk9qhsGr4aeh6eUarlW57ZQNwxeDT0PTynVUs3t+c0/2erVFfWp7ufhKaVaGphszW2ermhMdT0PTynVEs0uIzpnYZsY4Q3qeXhKqSETmdapua0qI7oFuqT5oXL6PLztZY+itadtKhsDDWFXS4jovBjYZiZvs75ra9uR25u5rcvtitwmiyY1nEUDmJXborJRAL65/ZSdVzYiZvJYujCzxzFapVSHal4ZiVfTnSVlGjRXFymlukUzS+AF2BaUEd1UXaOU6sYIj5R2ShnRzdYlSqlu1brSVukKpVQ3i0mLrOc3SxeUUqprNbOEnWsllVJdLZalrNUNSimllFJKKaWUUkoppZRSSimllFJqcOJJKDybkEd18Xigk3r8D3JKqS4SP/bnEU5ZDXu9x6eeKKW6QERuG0uwbSsjOyK6c3N7sdzOwyCP0lVKqU7WpSXQeMLttBogfLrc768qlFIdrbUlzK7vZ/9RSUrrE4qVUh0rnkZ8d0//z66bnsBuiu5SSnWrFpag26orlFLdKv4t5psl7BbpDqVUN2p+ArpbdIdSqht1Rm5vCTqlVDeLJxRvK0G3XHcopbo5fQV0m3WFUqqbtayE3X26QinV7ZHdfeVfpZRSSinV6ZEdExMLdYVSqptFCusP/5VSXa8bc9uS20O6QimllFJKKaWUUkoppZRSSimllFJKKaWUUmrX+j9QgRMzvVzetQAAAABJRU5ErkJggg==)"
      ]
    },
    {
      "cell_type": "code",
      "metadata": {
        "id": "adz6hSBvEfln",
        "outputId": "107d8efb-32bd-4c52-8226-be7654c6187c",
        "colab": {
          "base_uri": "https://localhost:8080/",
          "height": 34
        }
      },
      "source": [
        "text = tf.constant(\"1 10 100\")\n",
        "print(tf.strings.to_number(tf.strings.split(text, \" \")))"
      ],
      "execution_count": 37,
      "outputs": [
        {
          "output_type": "stream",
          "text": [
            "tf.Tensor([  1.  10. 100.], shape=(3,), dtype=float32)\n"
          ],
          "name": "stdout"
        }
      ]
    },
    {
      "cell_type": "markdown",
      "metadata": {
        "id": "eXKpnaCDE3ng"
      },
      "source": [
        "Although you can't use `tf.cast` to turn a string tensor into numbers, you can convert it into bytes, and then into numbers."
      ]
    },
    {
      "cell_type": "code",
      "metadata": {
        "id": "m-fYo64xEsNo",
        "outputId": "282f84cd-f835-422e-87e2-4ab10ce1ccf5",
        "colab": {
          "base_uri": "https://localhost:8080/",
          "height": 50
        }
      },
      "source": [
        "byte_strings = tf.strings.bytes_split(tf.constant(\"Duck\"))\n",
        "byte_ints = tf.io.decode_raw(tf.constant(\"Duck\"), tf.uint8)\n",
        "print(\"Byte strings:\", byte_strings)\n",
        "print(\"Bytes:\", byte_ints)"
      ],
      "execution_count": 39,
      "outputs": [
        {
          "output_type": "stream",
          "text": [
            "Byte strings: tf.Tensor([b'D' b'u' b'c' b'k'], shape=(4,), dtype=string)\n",
            "Bytes: tf.Tensor([ 68 117  99 107], shape=(4,), dtype=uint8)\n"
          ],
          "name": "stdout"
        }
      ]
    },
    {
      "cell_type": "code",
      "metadata": {
        "id": "xECAt89lE2JW",
        "outputId": "8c70bec0-8bdb-43dd-f6e2-28f1344f2c45",
        "colab": {
          "base_uri": "https://localhost:8080/",
          "height": 118
        }
      },
      "source": [
        "# Or split it up as unicode and then decode it\n",
        "unicode_bytes = tf.constant(\"アヒル 🦆\")\n",
        "unicode_char_bytes = tf.strings.unicode_split(unicode_bytes, \"UTF-8\")\n",
        "unicode_values = tf.strings.unicode_decode(unicode_bytes, \"UTF-8\")\n",
        "\n",
        "print(\"\\nUnicode bytes:\", unicode_bytes)\n",
        "print(\"\\nUnicode chars:\", unicode_char_bytes)\n",
        "print(\"\\nUnicode values:\", unicode_values)"
      ],
      "execution_count": 40,
      "outputs": [
        {
          "output_type": "stream",
          "text": [
            "\n",
            "Unicode bytes: tf.Tensor(b'\\xe3\\x82\\xa2\\xe3\\x83\\x92\\xe3\\x83\\xab \\xf0\\x9f\\xa6\\x86', shape=(), dtype=string)\n",
            "\n",
            "Unicode chars: tf.Tensor([b'\\xe3\\x82\\xa2' b'\\xe3\\x83\\x92' b'\\xe3\\x83\\xab' b' ' b'\\xf0\\x9f\\xa6\\x86'], shape=(5,), dtype=string)\n",
            "\n",
            "Unicode values: tf.Tensor([ 12450  12498  12523     32 129414], shape=(5,), dtype=int32)\n"
          ],
          "name": "stdout"
        }
      ]
    },
    {
      "cell_type": "markdown",
      "metadata": {
        "id": "bVxrsFFvFM6y"
      },
      "source": [
        "## Sparse tensors\n",
        "\n",
        "Sometimes, the data is sparse, like a very wide embedding space.  TensorFlow supports `tf.sparse.SparseTensor` and related operations to store sparse data efficiently.\n",
        "\n",
        "\n"
      ]
    },
    {
      "cell_type": "markdown",
      "metadata": {
        "id": "cVTZMDW-FbyP"
      },
      "source": [
        "![sparse.png](data:image/png;base64,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)"
      ]
    },
    {
      "cell_type": "code",
      "metadata": {
        "id": "oQ05olYpFGaj",
        "outputId": "c5adc97e-df2e-41d6-8765-8f406f2ef3e2",
        "colab": {
          "base_uri": "https://localhost:8080/",
          "height": 151
        }
      },
      "source": [
        "# Sparse tensors store values by index in a memory-efficient manner\n",
        "sparse_tensor = tf.sparse.SparseTensor(indices=[[0, 0], [1, 2]],\n",
        "                                       values=[1, 2],\n",
        "                                       dense_shape=[3, 4])\n",
        "print(sparse_tensor, \"\\n\")\n",
        "\n",
        "# You can convert sparse tensors to dense\n",
        "print(tf.sparse.to_dense(sparse_tensor))"
      ],
      "execution_count": 41,
      "outputs": [
        {
          "output_type": "stream",
          "text": [
            "SparseTensor(indices=tf.Tensor(\n",
            "[[0 0]\n",
            " [1 2]], shape=(2, 2), dtype=int64), values=tf.Tensor([1 2], shape=(2,), dtype=int32), dense_shape=tf.Tensor([3 4], shape=(2,), dtype=int64)) \n",
            "\n",
            "tf.Tensor(\n",
            "[[1 0 0 0]\n",
            " [0 0 2 0]\n",
            " [0 0 0 0]], shape=(3, 4), dtype=int32)\n"
          ],
          "name": "stdout"
        }
      ]
    },
    {
      "cell_type": "code",
      "metadata": {
        "id": "6qrwBW4bFfdW"
      },
      "source": [
        ""
      ],
      "execution_count": null,
      "outputs": []
    }
  ]
}